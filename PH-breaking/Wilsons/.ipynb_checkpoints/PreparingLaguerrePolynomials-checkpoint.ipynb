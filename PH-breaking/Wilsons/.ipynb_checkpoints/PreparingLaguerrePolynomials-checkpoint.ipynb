{
 "cells": [
  {
   "cell_type": "markdown",
   "metadata": {},
   "source": [
    "This notebook prepares the generalized Laguerre form factors."
   ]
  },
  {
   "cell_type": "code",
   "execution_count": 2,
   "metadata": {},
   "outputs": [],
   "source": [
    "import numpy as np\n",
    "import scipy as sp\n",
    "import matplotlib.pyplot as plt\n",
    "from math import factorial\n",
    "from scipy.special import eval_genlaguerre"
   ]
  },
  {
   "cell_type": "code",
   "execution_count": 3,
   "metadata": {},
   "outputs": [],
   "source": [
    "# Jonah's conventions for the unit cell and stuff\n",
    "q1 = -np.array([0.0,-1.0],dtype = complex)  # lattice vectors in the Q lattice\n",
    "q2 = -np.array([np.sqrt(3)/2,0.5],dtype = complex)\n",
    "q3 = -np.array([-np.sqrt(3)/2,0.5],dtype = complex)\n",
    "\n",
    "b1 = q2 - q1\n",
    "b2 = q3 - q1\n",
    "\n",
    "# Lattice vectors\n",
    "a1 = (2./3)*np.array([-np.sqrt(3)/2,-0.5],dtype = complex)  # lattice vectors in the Q lattice\n",
    "a2 = (2./3)*np.array([np.sqrt(3)/2,-0.5],dtype = complex)  # lattice vectors in the Q lattice\n",
    "\n",
    "# special points in the MBZ\n",
    "kpt = q3 # The K point\n",
    "gpt = np.array([0.0,0.0], dtype = complex) # The Gamma point\n",
    "mpt = q3 + 0.5*q1 # The M point\n",
    "\n",
    "# 3 parameters  \n",
    "w1 = 1./np.sqrt(3) \n",
    "w0 = 8./(10.*np.sqrt(3))\n",
    "vFkth = 110.0*np.sqrt(3)"
   ]
  },
  {
   "cell_type": "code",
   "execution_count": 4,
   "metadata": {},
   "outputs": [],
   "source": [
    "def findFormFactors1(m, n):\n",
    "    G1 = 1.0\n",
    "    G2 = 0.0\n",
    "\n",
    "    ax1, ay1 = a1\n",
    "    ax2, ay2 = a2\n",
    "    omega = abs(ax1 * ay2 - ay1 * ax2)\n",
    "    \n",
    "    z1 = (ax1 + 1.0j*ay1)/np.sqrt(omega)\n",
    "    z1bar = (ax1 - 1.0j*ay1)/np.sqrt(omega)\n",
    "    z2 = (ax2 + 1.0j*ay2)/np.sqrt(omega)\n",
    "    z2bar = (ax2 - 1.0j*ay2)/np.sqrt(omega)\n",
    "    \n",
    "    gamma = G2*z1bar - G1*z2bar\n",
    "    gammabar = G2*z1 - G1*z2\n",
    "    coeff = np.exp(-1.0j*np.pi*G1*G2)*np.exp(-np.pi/2*gamma*gammabar)\n",
    "    term = 0.0\n",
    "            \n",
    "    if n>m:\n",
    "        term = np.sqrt(factorial(m)/factorial(n)) * (1.0j*np.sqrt(np.pi) * gamma)**(n-m) * \\\n",
    "        eval_genlaguerre(m, abs(n-m), np.pi*gamma*gammabar)\n",
    "    else:\n",
    "        term = np.sqrt(factorial(n)/factorial(m)) * (1.0j*np.sqrt(np.pi) * gammabar)**(m-n) * \\\n",
    "        eval_genlaguerre(n, abs(m-n), np.pi*gamma*gammabar)\n",
    "        \n",
    "    return(coeff*term)\n",
    "\n",
    "def findFormFactors2(m, n):\n",
    "    G1 = 0.0\n",
    "    G2 = 1.0\n",
    "\n",
    "    ax1, ay1 = a1\n",
    "    ax2, ay2 = a2\n",
    "    omega = abs(ax1 * ay2 - ay1*ax2)\n",
    "    \n",
    "    z1 = (ax1 + 1.0j*ay1)/np.sqrt(omega)\n",
    "    z1bar = (ax1 - 1.0j*ay1)/np.sqrt(omega)\n",
    "    z2 = (ax2 + 1.0j*ay2)/np.sqrt(omega)\n",
    "    z2bar = (ax2 - 1.0j*ay2)/np.sqrt(omega)\n",
    "    \n",
    "    gamma = G2*z1bar - G1*z2bar\n",
    "    gammabar = G2*z1 - G1*z2\n",
    "    coeff = np.exp(-1.0j*np.pi*G1*G2)*np.exp(-np.pi/2*gamma*gammabar)\n",
    "    term = 0.0\n",
    "            \n",
    "    if n>m:\n",
    "        term = np.sqrt(factorial(m)/factorial(n)) * (1.0j*np.sqrt(np.pi) * gamma)**(n-m) * \\\n",
    "        eval_genlaguerre(m, abs(n-m), np.pi*gamma*gammabar)\n",
    "    else:\n",
    "        term = np.sqrt(factorial(n)/factorial(m)) * (1.0j*np.sqrt(np.pi) * gammabar)**(m-n) * \\\n",
    "        eval_genlaguerre(n, abs(m-n), np.pi*gamma*gammabar)\n",
    "        \n",
    "    return(coeff*term)"
   ]
  },
  {
   "cell_type": "code",
   "execution_count": 5,
   "metadata": {},
   "outputs": [],
   "source": [
    "arrayOfFormFactors1 = np.zeros((500,500), dtype=complex)\n",
    "arrayOfFormFactors2 = np.zeros((500,500), dtype=complex)\n",
    "\n",
    "for m in range(500):\n",
    "    for n in range(500):\n",
    "        arrayOfFormFactors1[m][n] = findFormFactors1(m,n)\n",
    "        arrayOfFormFactors2[m][n] = findFormFactors2(m,n)"
   ]
  },
  {
   "cell_type": "code",
   "execution_count": 6,
   "metadata": {},
   "outputs": [],
   "source": [
    "np.save('TBG_Form_Factors_G1.npy', arrayOfFormFactors1, allow_pickle=True, fix_imports=True)\n",
    "np.save('TBG_Form_Factors_G2.npy', arrayOfFormFactors2, allow_pickle=True, fix_imports=True)"
   ]
  },
  {
   "cell_type": "code",
   "execution_count": 6,
   "metadata": {},
   "outputs": [],
   "source": [
    "testme1 = np.load('TBG_Form_Factors_G1.npy')\n",
    "testme2 = np.load('TBG_Form_Factors_G2.npy')"
   ]
  },
  {
   "cell_type": "code",
   "execution_count": 18,
   "metadata": {},
   "outputs": [
    {
     "data": {
      "text/plain": [
       "0.03125000192302508"
      ]
     },
     "execution_count": 18,
     "metadata": {},
     "output_type": "execute_result"
    }
   ],
   "source": [
    "np.linalg.norm(testme2 - arrayOfFormFactors2)"
   ]
  },
  {
   "cell_type": "code",
   "execution_count": 17,
   "metadata": {},
   "outputs": [
    {
     "data": {
      "text/plain": [
       "(-7341.034182944149+0j)"
      ]
     },
     "execution_count": 17,
     "metadata": {},
     "output_type": "execute_result"
    }
   ],
   "source": [
    "arrayOfFormFactors1[200,200]"
   ]
  },
  {
   "cell_type": "code",
   "execution_count": null,
   "metadata": {},
   "outputs": [],
   "source": []
  }
 ],
 "metadata": {
  "kernelspec": {
   "display_name": "Python 3",
   "language": "python",
   "name": "python3"
  },
  "language_info": {
   "codemirror_mode": {
    "name": "ipython",
    "version": 3
   },
   "file_extension": ".py",
   "mimetype": "text/x-python",
   "name": "python",
   "nbconvert_exporter": "python",
   "pygments_lexer": "ipython3",
   "version": "3.8.6"
  }
 },
 "nbformat": 4,
 "nbformat_minor": 5
}
