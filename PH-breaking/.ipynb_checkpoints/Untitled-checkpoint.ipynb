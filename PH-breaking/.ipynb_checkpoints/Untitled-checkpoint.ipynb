{
 "cells": [
  {
   "cell_type": "code",
   "execution_count": 57,
   "metadata": {},
   "outputs": [],
   "source": [
    "import os\n",
    "import matplotlib.pyplot as plt\n",
    "import numpy as np\n",
    "from scipy.interpolate import griddata\n",
    "from matplotlib.pyplot import contourf"
   ]
  },
  {
   "cell_type": "code",
   "execution_count": 105,
   "metadata": {},
   "outputs": [],
   "source": [
    "positions=[]\n",
    "gaps = []\n",
    "with open('mesh.txt') as f:\n",
    "    for line in f:\n",
    "        x=line.split()\n",
    "        positions.append([float(zed) for zed in x])\n",
    "        \n",
    "with open('dataGaps.txt') as gapsLst:\n",
    "    for line in gapsLst:\n",
    "        gaps.append(float(line))\n",
    "        \n",
    "with open('dataMesh.txt') as newData:\n",
    "    for line in newData:\n",
    "        gaps.append(float(line))\n",
    "        \n",
    "with open('dataMeshNew.txt') as newData:\n",
    "    for line in newData:\n",
    "        gaps.append(float(line))"
   ]
  },
  {
   "cell_type": "code",
   "execution_count": 103,
   "metadata": {},
   "outputs": [],
   "source": [
    "newData=np.load('new_mesh.npy')\n",
    "newerData=np.load('newer_mesh.npy')"
   ]
  },
  {
   "cell_type": "code",
   "execution_count": 104,
   "metadata": {},
   "outputs": [],
   "source": [
    "newPos = positions+list(newData)+list(newerData)"
   ]
  },
  {
   "cell_type": "code",
   "execution_count": 91,
   "metadata": {},
   "outputs": [
    {
     "data": {
      "text/plain": [
       "220"
      ]
     },
     "execution_count": 91,
     "metadata": {},
     "output_type": "execute_result"
    }
   ],
   "source": [
    "len(gaps)"
   ]
  },
  {
   "cell_type": "code",
   "execution_count": 106,
   "metadata": {},
   "outputs": [],
   "source": [
    "gapsArray = np.array(gaps)"
   ]
  },
  {
   "cell_type": "code",
   "execution_count": 107,
   "metadata": {},
   "outputs": [],
   "source": [
    "Z = griddata(newPos,gapsArray,np.array([X,Y]).T)"
   ]
  },
  {
   "cell_type": "code",
   "execution_count": 119,
   "metadata": {},
   "outputs": [
    {
     "data": {
      "image/png": "[encoded data removed]",
      "text/plain": [
       "<Figure size 1584x792 with 1 Axes>"
      ]
     },
     "metadata": {
      "needs_background": "light"
     },
     "output_type": "display_data"
    }
   ],
   "source": [
    "fig = plt.figure(figsize=(22,11)) \n",
    "ax1 = fig.add_subplot(121)\n",
    "ax1.contourf(X, Y, Z, [6,500])\n",
    "ax1.set_aspect('equal')\n",
    "plt.savefig('rough_phase_diagram.png')"
   ]
  },
  {
   "cell_type": "code",
   "execution_count": null,
   "metadata": {},
   "outputs": [],
   "source": []
  }
 ],
 "metadata": {
  "kernelspec": {
   "display_name": "Python 3",
   "language": "python",
   "name": "python3"
  },
  "language_info": {
   "codemirror_mode": {
    "name": "ipython",
    "version": 3
   },
   "file_extension": ".py",
   "mimetype": "text/x-python",
   "name": "python",
   "nbconvert_exporter": "python",
   "pygments_lexer": "ipython3",
   "version": "3.8.6"
  }
 },
 "nbformat": 4,
 "nbformat_minor": 4
}
