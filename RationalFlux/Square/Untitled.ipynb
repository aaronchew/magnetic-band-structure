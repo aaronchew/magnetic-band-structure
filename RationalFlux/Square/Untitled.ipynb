{
 "cells": [
  {
   "cell_type": "code",
   "execution_count": 5,
   "metadata": {},
   "outputs": [],
   "source": [
    "import mpmath\n",
    "import numpy as np\n",
    "import matplotlib.pyplot as plt\n",
    "from scipy.special import eval_genlaguerre, loggamma\n",
    "from mpmath import jtheta,sqrt\n",
    "import matplotlib.pyplot as plt\n",
    "import csv"
   ]
  },
  {
   "cell_type": "code",
   "execution_count": 2,
   "metadata": {},
   "outputs": [],
   "source": [
    "# calculates the Siegel theta function from Jacobis\n",
    "def siegel(z1,z2):\n",
    "    return(np.sqrt(2)*np.exp(-np.pi*z1*z1-np.pi*z2*z2+2j*np.pi*z1*z2)* \\\n",
    "    jtheta(3,np.pi*(1.0j*z1+z2),np.exp(-np.pi))*jtheta(3,np.pi*(z1+1.0j*z2),np.exp(-np.pi)))\n",
    "\n",
    "# get the phase e^{\\xi_q(k)}\n",
    "def getPhase(kvec,qvec,latticeVec1,latticeVec2):\n",
    "    k1 = np.dot(kvec,latticeVec1)\n",
    "    k2 = np.dot(kvec,latticeVec2)\n",
    "    q1 = np.dot(qvec,latticeVec1)\n",
    "    q2 = np.dot(qvec,latticeVec2)\n",
    "    \n",
    "    qComplex = q1 + 1.0j*q2\n",
    "    numer = np.exp(-qComplex*np.conj(qComplex)/(8*np.pi))*siegel((k1-qComplex/2)/(2*np.pi),(k2+1.0j*qComplex/2)/(2*np.pi))\n",
    "    denom= sqrt(siegel(k1/(2*np.pi),k2/(2*np.pi))*siegel((k1-q1)/(2*np.pi),(k2-q2)/(2*np.pi)))\n",
    "    return(complex(numer/denom))\n",
    "\n",
    "# get the form factor.  This will lose accuracy around m,n = 150 or so, so let's not go beyond that\n",
    "def getFormFactor(qvec,m,n,latticeVec1,latticeVec2):\n",
    "    q1 = np.dot(qvec,latticeVec1)\n",
    "    q2 = np.dot(qvec,latticeVec2)\n",
    "    omega = abs(latticeVec1[0]*latticeVec2[1]-latticeVec1[1]*latticeVec2[0])\n",
    "    z1 = 1.0/np.sqrt(omega)*(latticeVec1[0] + 1.0j*latticeVec1[1])\n",
    "    z2 = 1.0/np.sqrt(omega)*(latticeVec2[0] + 1.0j*latticeVec2[1])\n",
    "    gammaQ = np.dot(qvec,latticeVec1)*np.conj(z2) - np.dot(qvec,latticeVec2)*np.conj(z1)\n",
    "    \n",
    "    factorialTerm = np.exp(-gammaQ*np.conj(gammaQ)/(8*np.pi))*\\\n",
    "    np.exp(complex(0.5*(loggamma(min(m,n)+1) - loggamma(max(m,n)+1))))\n",
    "    if n >= m:\n",
    "        exponentTerm = (1.0j*gammaQ/np.sqrt(4*np.pi))**(n-m)\n",
    "    else:\n",
    "        exponentTerm = (1.0j*np.conj(gammaQ)/np.sqrt(4*np.pi))**(m-n)\n",
    "        \n",
    "    laguerreTerm = eval_genlaguerre(min(m,n),abs(m-n),gammaQ*np.conj(gammaQ)/(4*np.pi))\n",
    "    return(factorialTerm*exponentTerm*laguerreTerm)"
   ]
  },
  {
   "cell_type": "code",
   "execution_count": 99,
   "metadata": {},
   "outputs": [],
   "source": [
    "p = 4\n",
    "q = 12\n",
    "phi = (2*np.pi*p)/q\n",
    "w = 7.0 # the potential strength"
   ]
  },
  {
   "cell_type": "code",
   "execution_count": 100,
   "metadata": {},
   "outputs": [],
   "source": [
    "a1 = np.array([1,0],dtype=complex)\n",
    "a2 = np.array([0,1],dtype=complex)\n",
    "b1 = np.array([1,0],dtype=complex)\n",
    "b2 = np.array([0,1],dtype=complex)\n",
    "\n",
    "ta1 = 1.0/p*a1\n",
    "ta2 = q*a2\n",
    "tb1 = p*b1\n",
    "tb2 = 1.0/q*b2"
   ]
  },
  {
   "cell_type": "code",
   "execution_count": 101,
   "metadata": {},
   "outputs": [],
   "source": [
    "num_landau = 100\n",
    "#hqp1 = np.zeros((num_landau,num_landau),dtype=complex)\n",
    "#hqp2 = np.zeros((num_landau,num_landau),dtype=complex)\n",
    "#for m in range(num_landau):\n",
    "#    for n in range(num_landau):\n",
    "#        hqp1[m][n] = getFormFactor(2*np.pi*b1,m,n,ta1,ta2)\n",
    "#        hqp2[m][n] = getFormFactor(2*np.pi*b2,m,n,ta1,ta2)\n",
    "\n",
    "hqp1 = np.genfromtxt('prunedCSV/formFactor1_'+str(p)+'_'+str(q)+'_mod.csv', delimiter=',',dtype='complex')\n",
    "hqp2 = np.genfromtxt('prunedCSV/formFactor2_'+str(p)+'_'+str(q)+'_mod.csv', delimiter=',',dtype='complex')\n",
    "        \n",
    "kinetic = np.diag(np.array([phi*(m + 0.5) for m in range(num_landau)]))"
   ]
  },
  {
   "cell_type": "code",
   "execution_count": 102,
   "metadata": {},
   "outputs": [],
   "source": [
    "def generateHamiltonian(kvec):\n",
    "    diagKinetic = [[np.zeros((num_landau,num_landau)) for v in range(p)] for u in range(p)]\n",
    "    diagPotential = [[np.zeros((num_landau,num_landau)) for v in range(p)] for u in range(p)]\n",
    "    offDiagPotential = [[np.zeros((num_landau,num_landau)) for v in range(p)] for u in range(p)]\n",
    "\n",
    "    for v in range(p):\n",
    "        diagKinetic[v][v] = kinetic\n",
    "        diagPotential[v][v] = getPhase(kvec+2*np.pi*b1*v,2*np.pi*b2,ta1,ta2)*hqp2 \n",
    "        \n",
    "        # -1 entry is last entry\n",
    "        offDiagPotential[v-1][v] = getPhase(kvec+2*np.pi*b1*v,2*np.pi*b1,ta1,ta2)*hqp1\n",
    "    \n",
    "    potentialTerm = np.block(diagPotential) + np.block(offDiagPotential)\n",
    "    hamiltonian = np.block(diagKinetic) + w/2*(potentialTerm + potentialTerm.conj().T)    \n",
    "    return(hamiltonian)"
   ]
  },
  {
   "cell_type": "code",
   "execution_count": 103,
   "metadata": {},
   "outputs": [],
   "source": [
    "histPoints = []\n",
    "for i in range(20):\n",
    "    for r in range(20):\n",
    "        momentum = 2*np.pi*i/20 * tb1 + 2*np.pi*r/20 * tb2\n",
    "        eigvals, eigvecs = np.linalg.eigh(generateHamiltonian(momentum))\n",
    "        histPoints+=list(eigvals)"
   ]
  },
  {
   "cell_type": "code",
   "execution_count": 113,
   "metadata": {},
   "outputs": [],
   "source": [
    "np.save('rawData/data_'+str(p)+'_'+str(q)+'.npy',histPoints)"
   ]
  },
  {
   "cell_type": "code",
   "execution_count": null,
   "metadata": {},
   "outputs": [],
   "source": []
  }
 ],
 "metadata": {
  "kernelspec": {
   "display_name": "Python 3",
   "language": "python",
   "name": "python3"
  },
  "language_info": {
   "codemirror_mode": {
    "name": "ipython",
    "version": 3
   },
   "file_extension": ".py",
   "mimetype": "text/x-python",
   "name": "python",
   "nbconvert_exporter": "python",
   "pygments_lexer": "ipython3",
   "version": "3.8.6"
  }
 },
 "nbformat": 4,
 "nbformat_minor": 5
}
