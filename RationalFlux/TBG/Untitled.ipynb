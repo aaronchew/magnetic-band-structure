{
 "cells": [
  {
   "cell_type": "code",
   "execution_count": 26,
   "metadata": {},
   "outputs": [],
   "source": [
    "import mpmath\n",
    "import numpy as np\n",
    "import matplotlib.pyplot as plt\n",
    "from scipy.special import eval_genlaguerre, loggamma\n",
    "from mpmath import jtheta,sqrt\n",
    "import csv\n",
    "from scipy.sparse.linalg import expm\n",
    "from scipy.linalg import eigvalsh"
   ]
  },
  {
   "cell_type": "code",
   "execution_count": 2,
   "metadata": {},
   "outputs": [],
   "source": [
    "# calculates the Siegel theta function from Jacobis\n",
    "def siegel(z1,z2):\n",
    "    return(np.sqrt(2)*np.exp(-np.pi*z1*z1-np.pi*z2*z2+2j*np.pi*z1*z2)* \\\n",
    "    jtheta(3,np.pi*(1.0j*z1+z2),np.exp(-np.pi))*jtheta(3,np.pi*(z1+1.0j*z2),np.exp(-np.pi)))\n",
    "\n",
    "# get the phase e^{\\xi_q(k)}\n",
    "def getPhase(kvec,qvec,latticeVec1,latticeVec2):\n",
    "    k1 = np.dot(kvec,latticeVec1)\n",
    "    k2 = np.dot(kvec,latticeVec2)\n",
    "    q1 = np.dot(qvec,latticeVec1)\n",
    "    q2 = np.dot(qvec,latticeVec2)\n",
    "    \n",
    "    qComplex = q1 + 1.0j*q2\n",
    "    numer = np.exp(-qComplex*np.conj(qComplex)/(8*np.pi))*siegel((k1-qComplex/2)/(2*np.pi),(k2+1.0j*qComplex/2)/(2*np.pi))\n",
    "    denom= sqrt(siegel(k1/(2*np.pi),k2/(2*np.pi))*siegel((k1-q1)/(2*np.pi),(k2-q2)/(2*np.pi)))\n",
    "    return(complex(numer/denom))\n",
    "\n",
    "# get the form factor.  This will lose accuracy around m,n = 150 or so, so let's not go beyond that\n",
    "def getFormFactor(qvec,m,n,latticeVec1,latticeVec2):\n",
    "    q1 = np.dot(qvec,latticeVec1)\n",
    "    q2 = np.dot(qvec,latticeVec2)\n",
    "    omega = abs(latticeVec1[0]*latticeVec2[1]-latticeVec1[1]*latticeVec2[0])\n",
    "    z1 = 1.0/np.sqrt(omega)*(latticeVec1[0] + 1.0j*latticeVec1[1])\n",
    "    z2 = 1.0/np.sqrt(omega)*(latticeVec2[0] + 1.0j*latticeVec2[1])\n",
    "    gammaQ = np.dot(qvec,latticeVec1)*np.conj(z2) - np.dot(qvec,latticeVec2)*np.conj(z1)\n",
    "    \n",
    "    factorialTerm = np.exp(-gammaQ*np.conj(gammaQ)/(8*np.pi))*\\\n",
    "    np.exp(complex(0.5*(loggamma(min(m,n)+1) - loggamma(max(m,n)+1))))\n",
    "    if n >= m:\n",
    "        exponentTerm = (1.0j*gammaQ/np.sqrt(4*np.pi))**(n-m)\n",
    "    else:\n",
    "        exponentTerm = (1.0j*np.conj(gammaQ)/np.sqrt(4*np.pi))**(m-n)\n",
    "        \n",
    "    laguerreTerm = eval_genlaguerre(min(m,n),abs(m-n),gammaQ*np.conj(gammaQ)/(4*np.pi))\n",
    "    return(factorialTerm*exponentTerm*laguerreTerm)"
   ]
  },
  {
   "cell_type": "code",
   "execution_count": 15,
   "metadata": {},
   "outputs": [],
   "source": [
    "p = 1\n",
    "q = 1\n",
    "phi = (2*np.pi*p)/q\n",
    "w0 = 0.8/np.sqrt(3) \n",
    "w1 = 1.0/np.sqrt(3)\n",
    "vfkth = 110*np.sqrt(3)"
   ]
  },
  {
   "cell_type": "code",
   "execution_count": 16,
   "metadata": {},
   "outputs": [],
   "source": [
    "a1 = 2./3*np.array([-np.sqrt(3)/2, -1./2],dtype=complex);\n",
    "a2 = 2./3*np.array([np.sqrt(3)/2, -1./2],dtype=complex);\n",
    "b1 = np.array([-np.sqrt(3)/2, -3./2],dtype=complex);\n",
    "b2 = np.array([np.sqrt(3)/2, -3./2],dtype=complex);\n",
    "\n",
    "ta1 = 1.0/p*a1\n",
    "ta2 = q*a2\n",
    "tb1 = p*b1\n",
    "tb2 = 1.0/q*b2\n",
    "\n",
    "s2 = np.array([[0, -1.0j], [1.0j, 0]],dtype=complex)\n",
    "t1 = np.array([[w0, w1], [w1, w0]],dtype=complex)\n",
    "t2 = np.array([[w0, w1*np.exp(-2j*np.pi/3)], [w1*np.exp(2j*np.pi/3), w0]],dtype=complex)\n",
    "t3 = np.array([[w0, w1*np.exp(2j*np.pi/3)], [w1*np.exp(-2j*np.pi/3), w0]],dtype=complex)"
   ]
  },
  {
   "cell_type": "code",
   "execution_count": 17,
   "metadata": {},
   "outputs": [],
   "source": [
    "omega = ta1[0]*ta2[1] - ta1[1]*ta2[0]\n",
    "z1 = 1/np.sqrt(omega)*(ta1[0]+1.0j*ta1[1])\n",
    "z2 = 1/np.sqrt(omega)*(ta2[0]+1.0j*ta2[1])"
   ]
  },
  {
   "cell_type": "code",
   "execution_count": 18,
   "metadata": {},
   "outputs": [],
   "source": [
    "qvec = 2*np.pi*b1\n",
    "gQ = np.dot(qvec,ta1)*np.conj(z2)-np.dot(qvec,ta2)*np.conj(z1)\n",
    "gQbar = np.conj(gQ)\n",
    "\n",
    "num_landau_calc = 200\n",
    "num_landau = 100\n",
    "\n",
    "toExp = np.zeros((num_landau_calc,num_landau_calc),dtype=complex)\n",
    "\n",
    "for m in range(num_landau_calc-1):\n",
    "    toExp[m,m+1] = np.sqrt(m+1)*1.0j*gQ/np.sqrt(4*np.pi)\n",
    "    toExp[m+1,m] = np.sqrt(m+1)*1.0j*gQbar/np.sqrt(4*np.pi)\n",
    "    \n",
    "hqp1 = expm(toExp)[:num_landau,:num_landau]\n",
    "\n",
    "qvec = 2*np.pi*b2\n",
    "gQ = np.dot(qvec,ta1)*np.conj(z2)-np.dot(qvec,ta2)*np.conj(z1)\n",
    "gQbar = np.conj(gQ)\n",
    "\n",
    "toExp2 = np.zeros((num_landau_calc,num_landau_calc),dtype=complex)\n",
    "\n",
    "for m in range(num_landau_calc-1):\n",
    "    toExp2[m,m+1] = np.sqrt(m+1)*1.0j*gQ/np.sqrt(4*np.pi)\n",
    "    toExp2[m+1,m] = np.sqrt(m+1)*1.0j*gQbar/np.sqrt(4*np.pi)\n",
    "    \n",
    "hqp2 = expm(toExp2)[:num_landau,:num_landau]\n",
    "\n",
    "aUp = np.zeros((num_landau, num_landau),dtype='complex') \n",
    "aDown = np.zeros((num_landau, num_landau),dtype='complex') \n",
    "\n",
    "for m in range(num_landau-1):\n",
    "    aUp[m+1, m] = np.sqrt(m+1)\n",
    "    aDown[m,m+1] = np.sqrt(m+1)\n",
    "\n",
    "iden = np.identity(num_landau,dtype='complex');\n",
    "\n",
    "spurious = np.zeros((num_landau, num_landau),dtype='complex');\n",
    "spurious[num_landau-1, num_landau-1] = 10;\n",
    "\n",
    "kinetic1 = np.sqrt(phi/(2*np.pi))*np.sqrt(3*np.sqrt(3)/(2*np.pi))*np.block([[spurious, aUp], [aDown, spurious]]) - 0.5*np.kron(s2,iden);\n",
    "kinetic2 = np.sqrt(phi/(2*np.pi))*np.sqrt(3*np.sqrt(3)/(2*np.pi))*np.block([[spurious, aUp], [aDown, spurious]]) + 0.5*np.kron(s2,iden);"
   ]
  },
  {
   "cell_type": "code",
   "execution_count": 30,
   "metadata": {},
   "outputs": [],
   "source": [
    "def generateHamiltonian(kvec):\n",
    "    diagKinetic1 = np.zeros((2*num_landau*p,2*num_landau*p),dtype='complex')\n",
    "    diagKinetic2 = np.zeros((2*num_landau*p,2*num_landau*p),dtype='complex')\n",
    "\n",
    "    hamiltonian = np.zeros((4*num_landau*p,4*num_landau*p),dtype='complex')\n",
    "    potential = np.zeros((4*num_landau*p,4*num_landau*p),dtype='complex')\n",
    "    for v in range(p):\n",
    "        hamiltonian[v*2*num_landau:(v+1)*2*num_landau,v*2*num_landau:(v+1)*2*num_landau] = kinetic1\n",
    "        hamiltonian[(v+p)*2*num_landau:(v+1+p)*2*num_landau,(v+p)*2*num_landau:(v+p+1)*2*num_landau] = kinetic2\n",
    "        \n",
    "        potential[v*2*num_landau:(v+1)*2*num_landau,(v+p)*2*num_landau:(v+1+p)*2*num_landau] = np.kron(t1,iden)+getPhase(kvec+2*np.pi*b1*v,2*np.pi*b2,ta1,ta2)*np.kron(t3,hqp2) \n",
    "        # -1 entry is last entry\n",
    "        if v == 0:\n",
    "            potential[(p-1)*2*num_landau:(p)*2*num_landau,(v+p)*2*num_landau:(v+1+p)*2*num_landau] = getPhase(kvec+2*np.pi*b1*v,2*np.pi*b1,ta1,ta2)*np.kron(t2,hqp1)\n",
    "        else:\n",
    "            potential[(v-1)*2*num_landau:(v)*2*num_landau,(v+p)*2*num_landau:(v+1+p)*2*num_landau] = getPhase(kvec+2*np.pi*b1*v,2*np.pi*b1,ta1,ta2)*np.kron(t2,hqp1)\n",
    "\n",
    "    hamiltonian = hamiltonian + potential + potential.conj().T  \n",
    "    return(vfkth*hamiltonian)"
   ]
  },
  {
   "cell_type": "code",
   "execution_count": 31,
   "metadata": {},
   "outputs": [],
   "source": [
    "histPoints = []\n",
    "for i in range(1):\n",
    "    for r in range(1):\n",
    "        momentum = 2*np.pi*i/20 * tb1 + 2*np.pi*r/20 * tb2\n",
    "        eigvals = eigvalsh(generateHamiltonian(momentum))\n",
    "        histPoints+=list(eigvals)"
   ]
  },
  {
   "cell_type": "code",
   "execution_count": 32,
   "metadata": {},
   "outputs": [
    {
     "data": {
      "text/plain": [
       "(array([1., 0., 0., 0., 0., 0., 0., 0., 1., 0., 0., 0., 0., 0., 0., 0., 0.,\n",
       "        0., 1., 0., 0., 0., 0., 0., 0., 0., 0., 0., 0., 1., 0., 0., 0., 0.,\n",
       "        0., 0., 0., 0., 0., 0., 0., 1., 0., 0., 0., 0., 0., 0., 0., 0., 0.,\n",
       "        0., 0., 0., 0., 0., 0., 0., 1., 0., 0., 0., 0., 0., 0., 0., 0., 0.,\n",
       "        0., 0., 1., 0., 0., 0., 0., 0., 0., 0., 0., 0., 0., 1., 0., 0., 0.,\n",
       "        0., 0., 0., 0., 0., 0., 1., 0., 0., 0., 0., 0., 0., 0., 1.]),\n",
       " array([-2.46367517e+02, -2.41440167e+02, -2.36512817e+02, -2.31585466e+02,\n",
       "        -2.26658116e+02, -2.21730765e+02, -2.16803415e+02, -2.11876065e+02,\n",
       "        -2.06948714e+02, -2.02021364e+02, -1.97094014e+02, -1.92166663e+02,\n",
       "        -1.87239313e+02, -1.82311963e+02, -1.77384612e+02, -1.72457262e+02,\n",
       "        -1.67529912e+02, -1.62602561e+02, -1.57675211e+02, -1.52747861e+02,\n",
       "        -1.47820510e+02, -1.42893160e+02, -1.37965810e+02, -1.33038459e+02,\n",
       "        -1.28111109e+02, -1.23183759e+02, -1.18256408e+02, -1.13329058e+02,\n",
       "        -1.08401708e+02, -1.03474357e+02, -9.85470069e+01, -9.36196565e+01,\n",
       "        -8.86923062e+01, -8.37649559e+01, -7.88376055e+01, -7.39102552e+01,\n",
       "        -6.89829048e+01, -6.40555545e+01, -5.91282041e+01, -5.42008538e+01,\n",
       "        -4.92735034e+01, -4.43461531e+01, -3.94188028e+01, -3.44914524e+01,\n",
       "        -2.95641021e+01, -2.46367517e+01, -1.97094014e+01, -1.47820510e+01,\n",
       "        -9.85470069e+00, -4.92735034e+00,  1.39266376e-12,  4.92735034e+00,\n",
       "         9.85470069e+00,  1.47820510e+01,  1.97094014e+01,  2.46367517e+01,\n",
       "         2.95641021e+01,  3.44914524e+01,  3.94188028e+01,  4.43461531e+01,\n",
       "         4.92735034e+01,  5.42008538e+01,  5.91282041e+01,  6.40555545e+01,\n",
       "         6.89829048e+01,  7.39102552e+01,  7.88376055e+01,  8.37649559e+01,\n",
       "         8.86923062e+01,  9.36196565e+01,  9.85470069e+01,  1.03474357e+02,\n",
       "         1.08401708e+02,  1.13329058e+02,  1.18256408e+02,  1.23183759e+02,\n",
       "         1.28111109e+02,  1.33038459e+02,  1.37965810e+02,  1.42893160e+02,\n",
       "         1.47820510e+02,  1.52747861e+02,  1.57675211e+02,  1.62602561e+02,\n",
       "         1.67529912e+02,  1.72457262e+02,  1.77384612e+02,  1.82311963e+02,\n",
       "         1.87239313e+02,  1.92166663e+02,  1.97094014e+02,  2.02021364e+02,\n",
       "         2.06948714e+02,  2.11876065e+02,  2.16803415e+02,  2.21730765e+02,\n",
       "         2.26658116e+02,  2.31585466e+02,  2.36512817e+02,  2.41440167e+02,\n",
       "         2.46367517e+02]),\n",
       " <BarContainer object of 100 artists>)"
      ]
     },
     "execution_count": 32,
     "metadata": {},
     "output_type": "execute_result"
    },
    {
     "data": {
      "image/png": "[encoded data removed]",
      "text/plain": [
       "<Figure size 432x288 with 1 Axes>"
      ]
     },
     "metadata": {
      "needs_background": "light"
     },
     "output_type": "display_data"
    }
   ],
   "source": [
    "plt.hist([i for i in histPoints if abs(i) < 250],bins=100)"
   ]
  },
  {
   "cell_type": "code",
   "execution_count": 113,
   "metadata": {},
   "outputs": [],
   "source": [
    "np.save('rawData/data_'+str(p)+'_'+str(q)+'.npy',histPoints)"
   ]
  },
  {
   "cell_type": "code",
   "execution_count": null,
   "metadata": {},
   "outputs": [],
   "source": []
  }
 ],
 "metadata": {
  "kernelspec": {
   "display_name": "Python 3",
   "language": "python",
   "name": "python3"
  },
  "language_info": {
   "codemirror_mode": {
    "name": "ipython",
    "version": 3
   },
   "file_extension": ".py",
   "mimetype": "text/x-python",
   "name": "python",
   "nbconvert_exporter": "python",
   "pygments_lexer": "ipython3",
   "version": "3.8.6"
  }
 },
 "nbformat": 4,
 "nbformat_minor": 5
}
