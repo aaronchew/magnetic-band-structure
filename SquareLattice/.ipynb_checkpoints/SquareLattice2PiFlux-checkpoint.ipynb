{
 "cells": [
  {
   "cell_type": "code",
   "execution_count": 8,
   "metadata": {},
   "outputs": [],
   "source": [
    "import numpy as np\n",
    "import scipy as sp\n",
    "import matplotlib.pyplot as plt\n",
    "import matplotlib\n",
    "import scipy.linalg as la\n",
    "import csv"
   ]
  },
  {
   "cell_type": "code",
   "execution_count": 54,
   "metadata": {},
   "outputs": [],
   "source": [
    "# Lattice vectors\n",
    "a1 = np.array([1.0,0.0],dtype = complex)  \n",
    "a2 = np.array([0.0,1.0],dtype = complex)   \n",
    "\n",
    "b1 = np.array([1.0,0.0],dtype = complex)\n",
    "b2 = np.array([0.0,1.0],dtype = complex)\n",
    "\n",
    "# special points in the MBZ\n",
    "gpt = 2*np.pi*np.array([0.0,0.0], dtype = complex) # The Gamma point\n",
    "xpt = 2*np.pi*np.array([0.5,0.0], dtype = complex) # The X point\n",
    "ypt = 2*np.pi*np.array([0.0,0.5], dtype = complex) # The Y point\n",
    "mpt = 2*np.pi*np.array([0.5,0.5], dtype = complex) # The M point"
   ]
  },
  {
   "cell_type": "code",
   "execution_count": 3,
   "metadata": {},
   "outputs": [],
   "source": [
    "ax1, ay1 = a1\n",
    "ax2, ay2 = a2\n",
    "omega = abs(ax1 * ay2 - ay1 * ax2) # area of the unit cell\n",
    "    \n",
    "z1 = (ax1 + 1.0j*ay1)/np.sqrt(omega) # z\n",
    "z1bar = (ax1 - 1.0j*ay1)/np.sqrt(omega)\n",
    "z2 = (ax2 + 1.0j*ay2)/np.sqrt(omega)\n",
    "z2bar = (ax2 - 1.0j*ay2)/np.sqrt(omega)"
   ]
  },
  {
   "cell_type": "markdown",
   "metadata": {},
   "source": [
    "Here we load the form factors calculated from the mathematica script.  There are serious issues with precision and the evaluation of the Laguerre polynomials at higher values of $m, n$, so we opt to do it in Mathematica and load the results for ${\\cal H}^{2\\pi b_1}$ in formFactors1, and ${\\cal H}^{2\\pi b_2}$ in formFactors2."
   ]
  },
  {
   "cell_type": "code",
   "execution_count": 29,
   "metadata": {},
   "outputs": [],
   "source": [
    "formFactors1 = np.zeros((100,100),dtype=complex)\n",
    "formFactors2 = np.zeros((100,100),dtype=complex)\n",
    "\n",
    "file1 = open('./TBG_1.csv', 'r')\n",
    "for j,line in enumerate(file1.readlines()):\n",
    "    formFactors1[j] = [complex(i.replace('*^','e').replace('*I','j')) for i in line.split(',')]\n",
    "    \n",
    "file2 = open('./TBG_2.csv', 'r')\n",
    "for j,line in enumerate(file2.readlines()):\n",
    "    formFactors2[j] = [complex(i.replace('*^','e').replace('*I','j')) for i in line.split(',')]"
   ]
  },
  {
   "cell_type": "code",
   "execution_count": 51,
   "metadata": {},
   "outputs": [],
   "source": [
    "def distance(a,b): # finds the distance between two vectors\n",
    "    x0, y0 = np.real(a) # because they were complex, cast to real and then unpack to get x, y\n",
    "    x1, y1 = np.real(b)\n",
    "    return(np.sqrt((x0-x1)**2 + (y0 - y1)**2))"
   ]
  },
  {
   "cell_type": "markdown",
   "metadata": {},
   "source": [
    "Now we diagonalize the Hamiltonian, using Eq.(B10)\n",
    "weak potential, $w = 1.0$:\n",
    "\n",
    "$$H^{\\phi=2\\pi}_{mn}(\\mathbf{k}) = \\phi(m+\\frac{1}{2}) \\delta_{mn} + \\frac{w}{2} (e^{- i k_2}  \\mathcal{H}^{2\\pi \\mathbf{b}_1}_{mn} + e^{i k_1} \\mathcal{H}^{2\\pi \\mathbf{b}_2}_{mn} + H.c.)$$"
   ]
  },
  {
   "cell_type": "code",
   "execution_count": 53,
   "metadata": {},
   "outputs": [],
   "source": [
    "w = 1.0\n",
    "phi = 2*np.pi"
   ]
  },
  {
   "cell_type": "code",
   "execution_count": 57,
   "metadata": {},
   "outputs": [],
   "source": [
    "num_landau = 20 # number of Landau levels to keep\n",
    "kinetic = np.zeros((num_landau,num_landau)) # matrix to hold the kinetic energies corresponding to each LL\n",
    "\n",
    "# First create the kinetic terms\n",
    "for m in range(num_landau): \n",
    "    kinetic[m][m] = phi*(m+1./2)\n",
    "\n",
    "def generateHam(k): # given a momentum k,\n",
    "    k1 = np.dot(a1,k)\n",
    "    k2 = np.dot(a2,k)\n",
    "    hamiltonian = kinetic + w/2*formFactors1[:num_landau,:num_landau]*np.exp( 1.0j *(-k2)) \\\n",
    "    + w/2*formFactors2[:num_landau,:num_landau]*np.exp(1.0j *(k1)) \\\n",
    "    + w/2*(formFactors1.conj().T)[:num_landau,:num_landau]*np.exp(1.0j *(k2)) \\\n",
    "    + w/2*(formFactors2.conj().T)[:num_landau,:num_landau]*np.exp(1.0j *(-k1))     \n",
    "    return(hamiltonian)"
   ]
  },
  {
   "cell_type": "markdown",
   "metadata": {},
   "source": [
    "We create a band structure plot linking the different high-symmetry points in the BZ: $Y \\rightarrow -X \\rightarrow \\Gamma \\rightarrow X \\rightarrow M \\rightarrow \\Gamma$."
   ]
  },
  {
   "cell_type": "code",
   "execution_count": 58,
   "metadata": {},
   "outputs": [],
   "source": [
    "# generate path in MBZ to plot\n",
    "numpoints = 50 # path divided into pieces.\n",
    "y_to_mx = [ypt * (1.0 - (t+0.0)/numpoints) + (-xpt) * ((t+0.0)/numpoints) for t in range(numpoints)] # from Y to -X\n",
    "mx_to_g = [(-xpt) * (1.0 - (t+0.0)/numpoints) + gpt * ((t+0.0)/numpoints) for t in range(numpoints)] # from -X to Gamma\n",
    "g_to_x = [gpt * (1.0 - (t+0.0)/numpoints) + xpt * ((t+0.0)/numpoints) for t in range(numpoints)] # from Gamma to X\n",
    "x_to_m = [xpt * (1.0 - (t+0.0)/numpoints) + mpt * ((t+0.0)/numpoints) for t in range(numpoints)] # from X to M\n",
    "m_to_g = [mpt * (1.0 - (t+0.0)/numpoints) + gpt * ((t+0.0)/numpoints) for t in range(numpoints)] # from M to Gamma\n",
    "\n",
    "list_of_points = y_to_mx+mx_to_g+g_to_x+x_to_m+m_to_g # + means append here, so the list is 5*numpoints long\n",
    "array_of_points = np.array(list_of_points) # to numpy array\n",
    "\n",
    "# some intervals between points are longer than others.  Fix by normalizing by length\n",
    "len_k = [0.0] # this is the x-axis of the band structure plot.  starting at 0,\n",
    "prev_k = 0.0\n",
    "for i in range(len(list_of_points) - 1):\n",
    "    prev_k += distance(array_of_points[i+1],array_of_points[i]) # add distances cumulatively\n",
    "    len_k.append(prev_k)"
   ]
  },
  {
   "cell_type": "code",
   "execution_count": 59,
   "metadata": {},
   "outputs": [],
   "source": [
    "listOfEigenvals = []  # will hold all the eigenvalues.\n",
    "for i, k_vec in enumerate(list_of_points):  # for each k-point in the path\n",
    "    ham = generateHam(k_vec)  # build Hk\n",
    "    eigenvals, eigenvecs = np.linalg.eigh(ham)  # find eigenvalues\n",
    "    listOfEigenvals.append(eigenvals)  # add to list"
   ]
  },
  {
   "cell_type": "markdown",
   "metadata": {},
   "source": [
    "Here we gather a whole bunch of points to histogram together.  This would be infeasible in the open space momentum technique"
   ]
  },
  {
   "cell_type": "code",
   "execution_count": 66,
   "metadata": {},
   "outputs": [],
   "source": [
    "listOfValsForHistogram = []\n",
    "\n",
    "for i in range(50): # 2500 points to create histogram\n",
    "    for j in range(50):\n",
    "        ham = generateHam(2*np.pi*i/50.0*b1+2*np.pi*j/50.0*b2)\n",
    "        eigval, eigvec = np.linalg.eigh(ham)\n",
    "        listOfValsForHistogram.append(eigval[:5]) # for the first 5 bands"
   ]
  },
  {
   "cell_type": "markdown",
   "metadata": {},
   "source": [
    "Some quantities that will help normalize the histogram"
   ]
  },
  {
   "cell_type": "code",
   "execution_count": 67,
   "metadata": {},
   "outputs": [
    {
     "data": {
      "text/plain": [
       "1636.2530828567312"
      ]
     },
     "execution_count": 67,
     "metadata": {},
     "output_type": "execute_result"
    }
   ],
   "source": [
    "hist = np.array(listOfValsForHistogram).flatten()\n",
    "a, b = np.histogram(hist, bins=200)\n",
    "q = b[:200] + np.diff(b)/2.0\n",
    "b[0]-np.diff(b)[0]/2.0\n",
    "b[-1]+np.diff(b)[0]/2.0\n",
    "np.diff(b)[3]*sum(a)"
   ]
  },
  {
   "cell_type": "code",
   "execution_count": 68,
   "metadata": {},
   "outputs": [
    {
     "data": {
      "text/plain": [
       "Text(0.3, 10, 'D.O.S.')"
      ]
     },
     "execution_count": 68,
     "metadata": {},
     "output_type": "execute_result"
    },
    {
     "data": {
      "image/png": "[encoded data removed]",
      "text/plain": [
       "<Figure size 936x720 with 2 Axes>"
      ]
     },
     "metadata": {
      "needs_background": "light"
     },
     "output_type": "display_data"
    }
   ],
   "source": [
    "from matplotlib.ticker import (MultipleLocator, AutoMinorLocator)\n",
    "\n",
    "font = {'family' : 'normal',\n",
    "        'weight' : 'normal',\n",
    "        'size'   : 40}\n",
    "\n",
    "matplotlib.rc('font', **font)\n",
    "matplotlib.rc('text',usetex=True)\n",
    "\n",
    "fig, axes = plt.subplots(nrows=1, ncols=2, figsize=(13, 10), gridspec_kw={'width_ratios': [1,0.3]})\n",
    "plt.subplots_adjust(wspace=0.15)\n",
    "\n",
    "axes[0].get_xaxis().set_visible(False)\n",
    "axes[0].tick_params(direction=\"in\",width=2.5, length=20)\n",
    "\n",
    "axes[0].axes.get_xaxis().set_visible(False)\n",
    "\n",
    "arrayOfEigenvals=np.array(listOfEigenvals)# take the 8 bands closest to 0 energy\n",
    "axes[0].axvline(x=len_k[0], color='gray')\n",
    "axes[0].text(len_k[0]-.05,-2,r'$Y$',rotation=0)\n",
    "axes[0].axvline(x=len_k[50], color='gray')\n",
    "axes[0].text(len_k[50]-.2,-2,r'$-X$',rotation=0)\n",
    "axes[0].axvline(x=len_k[100], color='gray')\n",
    "axes[0].text(len_k[100]-.025,-2,r'$\\Gamma$',rotation=0)\n",
    "axes[0].axvline(x=len_k[150], color='gray')\n",
    "axes[0].text(len_k[150]-.125,-2,r'$X$',rotation=0)\n",
    "axes[0].axvline(x=len_k[200], color='gray')\n",
    "axes[0].text(len_k[200]-.1,-2,r'$M$',rotation=0)\n",
    "axes[0].axvline(x=len_k[249], color='gray')\n",
    "axes[0].text(len_k[249]-.05,-2,r\"$\\Gamma$\",rotation=0)\n",
    "axes[0].set_ylim([0, 25])\n",
    "axes[0].set_ylabel('Energy')\n",
    "\n",
    "for i in range(0,4):\n",
    "    axes[0].plot(len_k, arrayOfEigenvals[:,i],linewidth=3,color='black')\n",
    "\n",
    "axes[0].get_yaxis().set_major_locator(MultipleLocator(5))\n",
    "axes[0].get_yaxis().set_minor_locator(MultipleLocator(1))\n",
    "axes[0].tick_params(which='major',direction=\"in\",width=2.5, length=20)\n",
    "axes[0].tick_params(which='minor',direction=\"in\",width=1.5, length=10)\n",
    "    \n",
    "axes[1].get_yaxis().set_ticklabels([])\n",
    "axes[1].get_yaxis().set_major_locator(MultipleLocator(50))\n",
    "axes[1].get_yaxis().set_minor_locator(MultipleLocator(10))\n",
    "\n",
    "ap = np.concatenate(([0],a,[0]))\n",
    "qp = np.concatenate(([b[0]-np.diff(b)[0]/2.0],q,[b[-1]+np.diff(b)[0]/2.0]))\n",
    "\n",
    "axes[1].plot(ap/1636, qp, linewidth=3, color='gray')\n",
    "axes[1].get_yaxis().set_major_locator(MultipleLocator(5))\n",
    "axes[1].get_yaxis().set_minor_locator(MultipleLocator(1))\n",
    "axes[1].tick_params(which='major',direction=\"in\",width=2.5, length=20)\n",
    "axes[1].tick_params(which='minor',direction=\"in\",width=1.5, length=10)\n",
    "\n",
    "axes[1].set_xlim([0, 1])\n",
    "axes[1].set_ylim([0, 25])\n",
    "\n",
    "axes[0].tick_params(direction=\"in\",width=2.5, length=20)\n",
    "axes[1].text(0.3,10,r\"D.O.S.\",rotation=0)\n"
   ]
  },
  {
   "cell_type": "markdown",
   "metadata": {},
   "source": [
    "Now we calculate the Wilson loop.  Start by defining the paths to calculate the Wilson loop over, and then creating the $\\tilde{Z}$ matrices as defined in Eq.(A143)"
   ]
  },
  {
   "cell_type": "code",
   "execution_count": 70,
   "metadata": {},
   "outputs": [],
   "source": [
    "path_k1 = [[2*np.pi*b1*(j)/150.0+2*np.pi*b2*i/150.0 for i in range(150)] for j in range(150)] # path to integrate Wilson loop"
   ]
  },
  {
   "cell_type": "markdown",
   "metadata": {},
   "source": [
    "$$\\tilde{Z}_i = \\frac{1}{\\sqrt{4\\pi}} \\langle m | \\bar{z}_i a + z_i a^\\dagger | n \\rangle $$\n",
    "$$= \\frac{1}{\\sqrt{4\\pi}} [\\bar{z}_i \\sqrt{n} \\delta_{m,n-1} + z_i \\sqrt{n+1}\\delta_{m,n+1}] $$\n",
    "$$= \\frac{1}{\\sqrt{4\\pi}} [\\bar{z}_i \\sqrt{n} \\delta_{m,n-1} + z_i \\sqrt{m}\\delta_{m,n+1}] $$"
   ]
  },
  {
   "cell_type": "code",
   "execution_count": 73,
   "metadata": {},
   "outputs": [],
   "source": [
    "# create the Z_matrix.  We're only keeping 20 Landau levels\n",
    "num_landau = 20\n",
    "z1_total_mat = np.zeros((num_landau,num_landau),dtype = complex)\n",
    "z2_total_mat = np.zeros((num_landau,num_landau),dtype = complex)\n",
    "\n",
    "for m in range(num_landau):\n",
    "    for n in range(num_landau):\n",
    "        if (m-1 == n):\n",
    "            coeff = 1.0/np.sqrt(4*np.pi)\n",
    "            z1_total_mat[m][n] += z1*np.sqrt(m)*coeff\n",
    "            z2_total_mat[m][n] += z2*np.sqrt(m)*coeff\n",
    "            \n",
    "        elif (m == n-1):\n",
    "            coeff = 1.0/np.sqrt(4*np.pi)\n",
    "            z1_total_mat[m][n] += z1bar*np.sqrt(n)*coeff\n",
    "            z2_total_mat[m][n] += z2bar*np.sqrt(n)*coeff"
   ]
  },
  {
   "cell_type": "markdown",
   "metadata": {},
   "source": [
    "As expected, $$[\\tilde{Z}_1,\\tilde{Z}_2] = \\frac{i}{2\\pi}.$$  The last entry is off because of the truncation."
   ]
  },
  {
   "cell_type": "code",
   "execution_count": 79,
   "metadata": {},
   "outputs": [
    {
     "data": {
      "text/plain": [
       "array([[0.+0.15915494j, 0.+0.j        , 0.+0.j        , 0.+0.j        ,\n",
       "        0.+0.j        , 0.+0.j        , 0.+0.j        , 0.+0.j        ,\n",
       "        0.+0.j        , 0.+0.j        , 0.+0.j        , 0.+0.j        ,\n",
       "        0.+0.j        , 0.+0.j        , 0.+0.j        , 0.+0.j        ,\n",
       "        0.+0.j        , 0.+0.j        , 0.+0.j        , 0.+0.j        ],\n",
       "       [0.+0.j        , 0.+0.15915494j, 0.+0.j        , 0.+0.j        ,\n",
       "        0.+0.j        , 0.+0.j        , 0.+0.j        , 0.+0.j        ,\n",
       "        0.+0.j        , 0.+0.j        , 0.+0.j        , 0.+0.j        ,\n",
       "        0.+0.j        , 0.+0.j        , 0.+0.j        , 0.+0.j        ,\n",
       "        0.+0.j        , 0.+0.j        , 0.+0.j        , 0.+0.j        ],\n",
       "       [0.+0.j        , 0.+0.j        , 0.+0.15915494j, 0.+0.j        ,\n",
       "        0.+0.j        , 0.+0.j        , 0.+0.j        , 0.+0.j        ,\n",
       "        0.+0.j        , 0.+0.j        , 0.+0.j        , 0.+0.j        ,\n",
       "        0.+0.j        , 0.+0.j        , 0.+0.j        , 0.+0.j        ,\n",
       "        0.+0.j        , 0.+0.j        , 0.+0.j        , 0.+0.j        ],\n",
       "       [0.+0.j        , 0.+0.j        , 0.+0.j        , 0.+0.15915494j,\n",
       "        0.+0.j        , 0.+0.j        , 0.+0.j        , 0.+0.j        ,\n",
       "        0.+0.j        , 0.+0.j        , 0.+0.j        , 0.+0.j        ,\n",
       "        0.+0.j        , 0.+0.j        , 0.+0.j        , 0.+0.j        ,\n",
       "        0.+0.j        , 0.+0.j        , 0.+0.j        , 0.+0.j        ],\n",
       "       [0.+0.j        , 0.+0.j        , 0.+0.j        , 0.+0.j        ,\n",
       "        0.+0.15915494j, 0.+0.j        , 0.+0.j        , 0.+0.j        ,\n",
       "        0.+0.j        , 0.+0.j        , 0.+0.j        , 0.+0.j        ,\n",
       "        0.+0.j        , 0.+0.j        , 0.+0.j        , 0.+0.j        ,\n",
       "        0.+0.j        , 0.+0.j        , 0.+0.j        , 0.+0.j        ],\n",
       "       [0.+0.j        , 0.+0.j        , 0.+0.j        , 0.+0.j        ,\n",
       "        0.+0.j        , 0.+0.15915494j, 0.+0.j        , 0.+0.j        ,\n",
       "        0.+0.j        , 0.+0.j        , 0.+0.j        , 0.+0.j        ,\n",
       "        0.+0.j        , 0.+0.j        , 0.+0.j        , 0.+0.j        ,\n",
       "        0.+0.j        , 0.+0.j        , 0.+0.j        , 0.+0.j        ],\n",
       "       [0.+0.j        , 0.+0.j        , 0.+0.j        , 0.+0.j        ,\n",
       "        0.+0.j        , 0.+0.j        , 0.+0.15915494j, 0.+0.j        ,\n",
       "        0.+0.j        , 0.+0.j        , 0.+0.j        , 0.+0.j        ,\n",
       "        0.+0.j        , 0.+0.j        , 0.+0.j        , 0.+0.j        ,\n",
       "        0.+0.j        , 0.+0.j        , 0.+0.j        , 0.+0.j        ],\n",
       "       [0.+0.j        , 0.+0.j        , 0.+0.j        , 0.+0.j        ,\n",
       "        0.+0.j        , 0.+0.j        , 0.+0.j        , 0.+0.15915494j,\n",
       "        0.+0.j        , 0.+0.j        , 0.+0.j        , 0.+0.j        ,\n",
       "        0.+0.j        , 0.+0.j        , 0.+0.j        , 0.+0.j        ,\n",
       "        0.+0.j        , 0.+0.j        , 0.+0.j        , 0.+0.j        ],\n",
       "       [0.+0.j        , 0.+0.j        , 0.+0.j        , 0.+0.j        ,\n",
       "        0.+0.j        , 0.+0.j        , 0.+0.j        , 0.+0.j        ,\n",
       "        0.+0.15915494j, 0.+0.j        , 0.+0.j        , 0.+0.j        ,\n",
       "        0.+0.j        , 0.+0.j        , 0.+0.j        , 0.+0.j        ,\n",
       "        0.+0.j        , 0.+0.j        , 0.+0.j        , 0.+0.j        ],\n",
       "       [0.+0.j        , 0.+0.j        , 0.+0.j        , 0.+0.j        ,\n",
       "        0.+0.j        , 0.+0.j        , 0.+0.j        , 0.+0.j        ,\n",
       "        0.+0.j        , 0.+0.15915494j, 0.+0.j        , 0.+0.j        ,\n",
       "        0.+0.j        , 0.+0.j        , 0.+0.j        , 0.+0.j        ,\n",
       "        0.+0.j        , 0.+0.j        , 0.+0.j        , 0.+0.j        ],\n",
       "       [0.+0.j        , 0.+0.j        , 0.+0.j        , 0.+0.j        ,\n",
       "        0.+0.j        , 0.+0.j        , 0.+0.j        , 0.+0.j        ,\n",
       "        0.+0.j        , 0.+0.j        , 0.+0.15915494j, 0.+0.j        ,\n",
       "        0.+0.j        , 0.+0.j        , 0.+0.j        , 0.+0.j        ,\n",
       "        0.+0.j        , 0.+0.j        , 0.+0.j        , 0.+0.j        ],\n",
       "       [0.+0.j        , 0.+0.j        , 0.+0.j        , 0.+0.j        ,\n",
       "        0.+0.j        , 0.+0.j        , 0.+0.j        , 0.+0.j        ,\n",
       "        0.+0.j        , 0.+0.j        , 0.+0.j        , 0.+0.15915494j,\n",
       "        0.+0.j        , 0.+0.j        , 0.+0.j        , 0.+0.j        ,\n",
       "        0.+0.j        , 0.+0.j        , 0.+0.j        , 0.+0.j        ],\n",
       "       [0.+0.j        , 0.+0.j        , 0.+0.j        , 0.+0.j        ,\n",
       "        0.+0.j        , 0.+0.j        , 0.+0.j        , 0.+0.j        ,\n",
       "        0.+0.j        , 0.+0.j        , 0.+0.j        , 0.+0.j        ,\n",
       "        0.+0.15915494j, 0.+0.j        , 0.+0.j        , 0.+0.j        ,\n",
       "        0.+0.j        , 0.+0.j        , 0.+0.j        , 0.+0.j        ],\n",
       "       [0.+0.j        , 0.+0.j        , 0.+0.j        , 0.+0.j        ,\n",
       "        0.+0.j        , 0.+0.j        , 0.+0.j        , 0.+0.j        ,\n",
       "        0.+0.j        , 0.+0.j        , 0.+0.j        , 0.+0.j        ,\n",
       "        0.+0.j        , 0.+0.15915494j, 0.+0.j        , 0.+0.j        ,\n",
       "        0.+0.j        , 0.+0.j        , 0.+0.j        , 0.+0.j        ],\n",
       "       [0.+0.j        , 0.+0.j        , 0.+0.j        , 0.+0.j        ,\n",
       "        0.+0.j        , 0.+0.j        , 0.+0.j        , 0.+0.j        ,\n",
       "        0.+0.j        , 0.+0.j        , 0.+0.j        , 0.+0.j        ,\n",
       "        0.+0.j        , 0.+0.j        , 0.+0.15915494j, 0.+0.j        ,\n",
       "        0.+0.j        , 0.+0.j        , 0.+0.j        , 0.+0.j        ],\n",
       "       [0.+0.j        , 0.+0.j        , 0.+0.j        , 0.+0.j        ,\n",
       "        0.+0.j        , 0.+0.j        , 0.+0.j        , 0.+0.j        ,\n",
       "        0.+0.j        , 0.+0.j        , 0.+0.j        , 0.+0.j        ,\n",
       "        0.+0.j        , 0.+0.j        , 0.+0.j        , 0.+0.15915494j,\n",
       "        0.+0.j        , 0.+0.j        , 0.+0.j        , 0.+0.j        ],\n",
       "       [0.+0.j        , 0.+0.j        , 0.+0.j        , 0.+0.j        ,\n",
       "        0.+0.j        , 0.+0.j        , 0.+0.j        , 0.+0.j        ,\n",
       "        0.+0.j        , 0.+0.j        , 0.+0.j        , 0.+0.j        ,\n",
       "        0.+0.j        , 0.+0.j        , 0.+0.j        , 0.+0.j        ,\n",
       "        0.+0.15915494j, 0.+0.j        , 0.+0.j        , 0.+0.j        ],\n",
       "       [0.+0.j        , 0.+0.j        , 0.+0.j        , 0.+0.j        ,\n",
       "        0.+0.j        , 0.+0.j        , 0.+0.j        , 0.+0.j        ,\n",
       "        0.+0.j        , 0.+0.j        , 0.+0.j        , 0.+0.j        ,\n",
       "        0.+0.j        , 0.+0.j        , 0.+0.j        , 0.+0.j        ,\n",
       "        0.+0.j        , 0.+0.15915494j, 0.+0.j        , 0.+0.j        ],\n",
       "       [0.+0.j        , 0.+0.j        , 0.+0.j        , 0.+0.j        ,\n",
       "        0.+0.j        , 0.+0.j        , 0.+0.j        , 0.+0.j        ,\n",
       "        0.+0.j        , 0.+0.j        , 0.+0.j        , 0.+0.j        ,\n",
       "        0.+0.j        , 0.+0.j        , 0.+0.j        , 0.+0.j        ,\n",
       "        0.+0.j        , 0.+0.j        , 0.+0.15915494j, 0.+0.j        ],\n",
       "       [0.+0.j        , 0.+0.j        , 0.+0.j        , 0.+0.j        ,\n",
       "        0.+0.j        , 0.+0.j        , 0.+0.j        , 0.+0.j        ,\n",
       "        0.+0.j        , 0.+0.j        , 0.+0.j        , 0.+0.j        ,\n",
       "        0.+0.j        , 0.+0.j        , 0.+0.j        , 0.+0.j        ,\n",
       "        0.+0.j        , 0.+0.j        , 0.+0.j        , 0.-3.02394392j]])"
      ]
     },
     "execution_count": 79,
     "metadata": {},
     "output_type": "execute_result"
    }
   ],
   "source": [
    "np.dot(z1_total_mat, z2_total_mat) - np.dot(z2_total_mat, z1_total_mat)"
   ]
  },
  {
   "cell_type": "markdown",
   "metadata": {},
   "source": [
    "We will need $$\\cal{H}^{-- dk} = e^{--i \\epsilon_{ij} dk_i \\tilde{Z}_j}$$ as it is used in Eq.(A192).  Here $dk = 2\\pi i b_2/150$, as our discretization is split into $150$ steps."
   ]
  },
  {
   "cell_type": "code",
   "execution_count": 82,
   "metadata": {},
   "outputs": [
    {
     "ename": "NameError",
     "evalue": "name 'b_2' is not defined",
     "output_type": "error",
     "traceback": [
      "\u001b[0;31m---------------------------------------------------------------------------\u001b[0m",
      "\u001b[0;31mNameError\u001b[0m                                 Traceback (most recent call last)",
      "\u001b[0;32m<ipython-input-82-97fdf950a8e9>\u001b[0m in \u001b[0;36m<module>\u001b[0;34m\u001b[0m\n\u001b[0;32m----> 1\u001b[0;31m \u001b[0mexpm_mat\u001b[0m \u001b[0;34m=\u001b[0m \u001b[0msp\u001b[0m\u001b[0;34m.\u001b[0m\u001b[0mlinalg\u001b[0m\u001b[0;34m.\u001b[0m\u001b[0mexpm\u001b[0m\u001b[0;34m(\u001b[0m\u001b[0;36m1.0j\u001b[0m\u001b[0;34m*\u001b[0m\u001b[0;36m2\u001b[0m\u001b[0;34m*\u001b[0m\u001b[0mnp\u001b[0m\u001b[0;34m.\u001b[0m\u001b[0mpi\u001b[0m\u001b[0;34m*\u001b[0m\u001b[0mb_2\u001b[0m\u001b[0;34m/\u001b[0m\u001b[0;36m150.0\u001b[0m\u001b[0;34m*\u001b[0m\u001b[0mz1_total_mat\u001b[0m\u001b[0;34m)\u001b[0m\u001b[0;34m\u001b[0m\u001b[0;34m\u001b[0m\u001b[0m\n\u001b[0m",
      "\u001b[0;31mNameError\u001b[0m: name 'b_2' is not defined"
     ]
    }
   ],
   "source": [
    "expm_mat = sp.linalg.expm(1.0j*2*np.pi/150.0*z1_total_mat)"
   ]
  },
  {
   "cell_type": "code",
   "execution_count": null,
   "metadata": {},
   "outputs": [],
   "source": []
  }
 ],
 "metadata": {
  "kernelspec": {
   "display_name": "Python 3",
   "language": "python",
   "name": "python3"
  },
  "language_info": {
   "codemirror_mode": {
    "name": "ipython",
    "version": 3
   },
   "file_extension": ".py",
   "mimetype": "text/x-python",
   "name": "python",
   "nbconvert_exporter": "python",
   "pygments_lexer": "ipython3",
   "version": "3.8.6"
  }
 },
 "nbformat": 4,
 "nbformat_minor": 4
}
