{
 "cells": [
  {
   "cell_type": "code",
   "execution_count": 1,
   "metadata": {},
   "outputs": [],
   "source": [
    "import mpmath\n",
    "import numpy as np\n",
    "import matplotlib.pyplot as plt\n",
    "from scipy.special import eval_genlaguerre, loggamma\n",
    "from mpmath import jtheta,sqrt, exp, pi, conj\n",
    "import csv\n",
    "from scipy.sparse.linalg import expm\n",
    "from scipy.linalg import eigvalsh"
   ]
  },
  {
   "cell_type": "code",
   "execution_count": 2,
   "metadata": {},
   "outputs": [],
   "source": [
    "# calculates the Siegel theta function from Jacobis\n",
    "def siegel(z1,z2):\n",
    "    return(sqrt(2)*exp(-pi*z1*z1-pi*z2*z2+2j*pi*z1*z2)* \\\n",
    "    jtheta(3,pi*(1.0j*z1+z2),exp(-pi))*jtheta(3,pi*(z1+1.0j*z2),exp(-pi)))\n",
    "\n",
    "# get the phase e^{\\xi_q(k)}\n",
    "def getPhase(kvec,qvec,latticeVec1,latticeVec2):\n",
    "    k1 = np.dot(kvec,latticeVec1)\n",
    "    k2 = np.dot(kvec,latticeVec2)\n",
    "    q1 = np.dot(qvec,latticeVec1)\n",
    "    q2 = np.dot(qvec,latticeVec2)\n",
    "    \n",
    "    qComplex = q1 + 1.0j*q2\n",
    "    numer = exp(-qComplex*conj(qComplex)/(8*pi))*siegel((k1-qComplex/2)/(2*pi),(k2+1.0j*qComplex/2)/(2*pi))\n",
    "    denom= sqrt(siegel(k1/(2*pi),k2/(2*pi))*siegel((k1-q1)/(2*pi),(k2-q2)/(2*pi)))\n",
    "    return(complex(numer/denom))"
   ]
  },
  {
   "cell_type": "code",
   "execution_count": 62,
   "metadata": {},
   "outputs": [],
   "source": [
    "p = 1\n",
    "q = 1\n",
    "phi = (2*np.pi*p)/q\n",
    "w0 = 0.8/np.sqrt(3) \n",
    "w1 = 1.0/np.sqrt(3)\n",
    "vfkth = 110*np.sqrt(3)"
   ]
  },
  {
   "cell_type": "code",
   "execution_count": 63,
   "metadata": {},
   "outputs": [],
   "source": [
    "a1 = 2./3*np.array([-np.sqrt(3)/2, -1./2],dtype=complex);\n",
    "a2 = 2./3*np.array([np.sqrt(3)/2, -1./2],dtype=complex);\n",
    "b1 = np.array([-np.sqrt(3)/2, -3./2],dtype=complex);\n",
    "b2 = np.array([np.sqrt(3)/2, -3./2],dtype=complex);\n",
    "\n",
    "ta1 = 1.0/p*a1\n",
    "ta2 = q*a2\n",
    "tb1 = p*b1\n",
    "tb2 = 1.0/q*b2\n",
    "\n",
    "s2 = np.array([[0, -1.0j], [1.0j, 0]],dtype=complex)\n",
    "t1 = np.array([[w0, w1], [w1, w0]],dtype=complex)\n",
    "t2 = np.array([[w0, w1*np.exp(-2j*np.pi/3)], [w1*np.exp(2j*np.pi/3), w0]],dtype=complex)\n",
    "t3 = np.array([[w0, w1*np.exp(2j*np.pi/3)], [w1*np.exp(-2j*np.pi/3), w0]],dtype=complex)"
   ]
  },
  {
   "cell_type": "code",
   "execution_count": 64,
   "metadata": {},
   "outputs": [],
   "source": [
    "omega = ta1[0]*ta2[1] - ta1[1]*ta2[0]\n",
    "z1 = 1/np.sqrt(omega)*(ta1[0]+1.0j*ta1[1])\n",
    "z2 = 1/np.sqrt(omega)*(ta2[0]+1.0j*ta2[1])"
   ]
  },
  {
   "cell_type": "code",
   "execution_count": 65,
   "metadata": {},
   "outputs": [],
   "source": [
    "qvec = 2*np.pi*b1\n",
    "gQ = np.dot(qvec,ta1)*np.conj(z2)-np.dot(qvec,ta2)*np.conj(z1)\n",
    "gQbar = np.conj(gQ)\n",
    "\n",
    "num_landau_calc = 200\n",
    "num_landau = 100\n",
    "\n",
    "toExp = np.zeros((num_landau_calc,num_landau_calc),dtype=complex)\n",
    "\n",
    "for m in range(num_landau_calc-1):\n",
    "    toExp[m,m+1] = np.sqrt(m+1)*1.0j*gQ/np.sqrt(4*np.pi)\n",
    "    toExp[m+1,m] = np.sqrt(m+1)*1.0j*gQbar/np.sqrt(4*np.pi)\n",
    "    \n",
    "formFactors1 = expm(toExp)\n",
    "\n",
    "qvec = 2*np.pi*b2\n",
    "gQ = np.dot(qvec,ta1)*np.conj(z2)-np.dot(qvec,ta2)*np.conj(z1)\n",
    "gQbar = np.conj(gQ)\n",
    "\n",
    "toExp2 = np.zeros((num_landau_calc,num_landau_calc),dtype=complex)\n",
    "\n",
    "for m in range(num_landau_calc-1):\n",
    "    toExp2[m,m+1] = np.sqrt(m+1)*1.0j*gQ/np.sqrt(4*np.pi)\n",
    "    toExp2[m+1,m] = np.sqrt(m+1)*1.0j*gQbar/np.sqrt(4*np.pi)\n",
    "    \n",
    "formFactors2 = expm(toExp2)"
   ]
  },
  {
   "cell_type": "code",
   "execution_count": 66,
   "metadata": {},
   "outputs": [
    {
     "data": {
      "text/plain": [
       "(-0.17868533624635444-0.3094920809462145j)"
      ]
     },
     "execution_count": 66,
     "metadata": {},
     "output_type": "execute_result"
    }
   ],
   "source": [
    "formFactors2[1][2]"
   ]
  },
  {
   "cell_type": "code",
   "execution_count": 67,
   "metadata": {},
   "outputs": [],
   "source": [
    "energy = np.sqrt(phi/(2*np.pi))* np.sqrt((3*np.sqrt(3))/(2*np.pi))\n",
    "kinetic_1 = np.zeros((2*num_landau+1,2*num_landau+1),dtype = complex) # layer 1\n",
    "kinetic_2 = np.zeros((2*num_landau+1,2*num_landau+1),dtype = complex) # layer 2\n",
    "\n",
    "# First we add the kinetic terms\n",
    "for m in range(-num_landau,num_landau+1): \n",
    "    kinetic_1[m][m] = energy * np.sqrt(abs(m)) *np.sign(m)\n",
    "    kinetic_2[m][m] = energy * np.sqrt(abs(m)) *np.sign(m)\n",
    "\n",
    "# And then the shifts from the change of basis    \n",
    "for m in range(-num_landau,num_landau+1):\n",
    "    for n in range(-num_landau,num_landau+1):\n",
    "        if (abs(m)-1 == abs(n)):\n",
    "            coeff = 1.0/((np.sqrt(2))**(np.sign(abs(n)) + np.sign(abs(m))))\n",
    "            kinetic_2[m][n] = 0.5j*np.sign(m)*coeff\n",
    "            kinetic_1[m][n] = -0.5j*np.sign(m)*coeff\n",
    "        elif (abs(m) == abs(n)-1):\n",
    "            coeff = 1.0/((np.sqrt(2))**(np.sign(abs(n)) + np.sign(abs(m))))\n",
    "            kinetic_2[m][n] = -0.5j*np.sign(n)*coeff\n",
    "            kinetic_1[m][n] = 0.5j*np.sign(n)*coeff"
   ]
  },
  {
   "cell_type": "code",
   "execution_count": 68,
   "metadata": {},
   "outputs": [],
   "source": [
    "# now the T-matrices, but the k-dependence is factored out\n",
    "t1_matrix = np.zeros((2*num_landau+1,2*num_landau+1),dtype = complex)\n",
    "t2_matrix = np.zeros((2*num_landau+1,2*num_landau+1),dtype = complex)\n",
    "t3_matrix = np.zeros((2*num_landau+1,2*num_landau+1),dtype = complex)\n",
    "\n",
    "for m in range(-num_landau,num_landau+1):\n",
    "    for n in range(-num_landau,num_landau+1):            \n",
    "        coe = 1.0/((np.sqrt(2))**(np.sign(abs(n)) + np.sign(abs(m))))\n",
    "            \n",
    "        t2_matrix[m][n] += coe*w0*formFactors1[abs(m),abs(n)]\n",
    "        t3_matrix[m][n] += coe*w0*formFactors2[abs(m),abs(n)]\n",
    "            \n",
    "        if abs(n) > 0 and abs(m) > 0:\n",
    "            t2_matrix[m][n] += np.sign(m*n)*coe*w0*formFactors1[abs(m)-1,abs(n)-1]\n",
    "            t3_matrix[m][n] += np.sign(m*n)*coe*w0*formFactors2[abs(m)-1,abs(n)-1]\n",
    "\n",
    "        if abs(n) > 0:\n",
    "            t2_matrix[m][n] += np.sign(n)*coe*w1*np.exp(-2.0j*np.pi/3)*formFactors1[abs(m),abs(n)-1]\n",
    "            t3_matrix[m][n] += np.sign(n)*coe*w1*np.exp(2.0j*np.pi/3)*formFactors2[abs(m),abs(n)-1]\n",
    "\n",
    "        if abs(m) > 0:\n",
    "            t2_matrix[m][n] += np.sign(m)*coe*w1*np.exp(2.0j*np.pi/3)*formFactors1[abs(m)-1,abs(n)]\n",
    "            t3_matrix[m][n] += np.sign(m)*coe*w1*np.exp(-2.0j*np.pi/3)*formFactors2[abs(m)-1,abs(n)]\n",
    "\n",
    "        if abs(m) == abs(n):\n",
    "            t1_matrix[m][n] += w0*coe\n",
    "            if abs(m) != 0:\n",
    "                t1_matrix[m][n] += w0*coe*np.sign(m*n)\n",
    "                    \n",
    "        if abs(m)-1 == abs(n) and abs(m) != 0:\n",
    "            t1_matrix[m][n] += w1*coe*np.sign(m)\n",
    "                \n",
    "        if abs(n)-1 == abs(m) and abs(n) != 0:\n",
    "            t1_matrix[m][n] += w1*coe*np.sign(n)"
   ]
  },
  {
   "cell_type": "code",
   "execution_count": 69,
   "metadata": {},
   "outputs": [],
   "source": [
    "def generateHamiltonian(kvec):\n",
    "    \n",
    "    \n",
    "    diagKinetic1 = [[np.zeros((2*num_landau+1,2*num_landau+1),dtype='complex') for v in range(p)] for u in range(p)]\n",
    "    diagKinetic2 = [[np.zeros((2*num_landau+1,2*num_landau+1),dtype='complex') for v in range(p)] for u in range(p)]\n",
    "    \n",
    "    diagPotential = [[np.zeros((2*num_landau+1,2*num_landau+1),dtype='complex') for v in range(p)] for u in range(p)]\n",
    "    offDiagPotential = [[np.zeros((2*num_landau+1,2*num_landau+1),dtype='complex') for v in range(p)] for u in range(p)]\n",
    "\n",
    "    for v in range(p):\n",
    "        diagKinetic1[v][v] = kinetic_1\n",
    "        diagKinetic2[v][v] = kinetic_2\n",
    "        \n",
    "        diagPotential[v][v] = t1_matrix+getPhase(kvec+2*np.pi*b1*v,2*np.pi*b2,ta1,ta2)*t3_matrix \n",
    "        # -1 entry is last entry\n",
    "        offDiagPotential[v-1][v] = getPhase(kvec+2*np.pi*b1*v,2*np.pi*b1,ta1,ta2)*t2_matrix\n",
    "    \n",
    "    potentialTerm = np.block(diagPotential) + np.block(offDiagPotential)\n",
    "    hamiltonian = np.block([[np.block(diagKinetic1),potentialTerm],[potentialTerm.conj().T,np.block(diagKinetic2)]])  \n",
    "    \n",
    "    \n",
    "    \n",
    "    #hamiltonian = np.zeros(((4*num_landau+2)*p,(4*num_landau+2)*p),dtype='complex')\n",
    "    #potential = np.zeros(((4*num_landau+2)*p,(4*num_landau+2)*p),dtype='complex')\n",
    "    #for v in range(p):\n",
    "    #    hamiltonian[v*(2*num_landau+1):(v+1)*(2*num_landau+1),v*(2*num_landau+1):(v+1)*(2*num_landau+1)] = kinetic_1\n",
    "    #    hamiltonian[(v+p)*(2*num_landau+1):(v+1+p)*(2*num_landau+1),(v+p)*(2*num_landau+1):(v+p+1)*(2*num_landau+1)] = kinetic_2\n",
    "        \n",
    "    #    potential[v*(2*num_landau+1):(v+1)*(2*num_landau+1),(v+p)*(2*num_landau+1):(v+1+p)*(2*num_landau+1)] = t1_matrix+getPhase(kvec+2*np.pi*b1*v,2*np.pi*b2,ta1,ta2)*t3_matrix\n",
    "    #    # -1 entry is last entry\n",
    "    #    if v == 0:\n",
    "    #        potential[(p-1)*(2*num_landau+1):(p)*(2*num_landau+1),(v+p)*(2*num_landau+1):(v+1+p)*(2*num_landau+1)] = getPhase(kvec+2*np.pi*b1*v,2*np.pi*b1,ta1,ta2)*t2_matrix\n",
    "    #    else:\n",
    "    #        potential[(v-1)*(2*num_landau+1):(v)*(2*num_landau+1),(v+p)*(2*num_landau+1):(v+1+p)*(2*num_landau+1)] = getPhase(kvec+2*np.pi*b1*v,2*np.pi*b1,ta1,ta2)*t2_matrix\n",
    "\n",
    "    #hamiltonian = hamiltonian + potential + potential.conj().T  \n",
    "    return(vfkth*hamiltonian)"
   ]
  },
  {
   "cell_type": "code",
   "execution_count": 70,
   "metadata": {},
   "outputs": [],
   "source": [
    "histPoints = []\n",
    "for i in range(1):\n",
    "    for r in range(1):\n",
    "        momentum = 2*np.pi*i/20 * tb1 + 2*np.pi*r/20 * tb2\n",
    "        eigvals = eigvalsh(generateHamiltonian(momentum))\n",
    "        histPoints+=list(eigvals)"
   ]
  },
  {
   "cell_type": "code",
   "execution_count": 71,
   "metadata": {},
   "outputs": [
    {
     "data": {
      "text/plain": [
       "(array([1., 0., 0., 1., 0., 0., 0., 1., 0., 0., 0., 0., 0., 0., 0., 0., 0.,\n",
       "        0., 0., 0., 0., 0., 0., 0., 0., 0., 0., 0., 0., 1., 0., 0., 0., 0.,\n",
       "        1., 0., 0., 0., 0., 0., 0., 0., 0., 0., 0., 0., 0., 0., 0., 1., 1.,\n",
       "        0., 0., 0., 0., 0., 0., 0., 0., 0., 0., 0., 0., 0., 0., 1., 0., 0.,\n",
       "        0., 0., 1., 0., 0., 0., 0., 0., 0., 0., 0., 0., 0., 0., 0., 0., 0.,\n",
       "        0., 0., 0., 0., 0., 0., 0., 1., 0., 0., 0., 1., 0., 0., 1.]),\n",
       " array([-2.33602481e+02, -2.28930431e+02, -2.24258382e+02, -2.19586332e+02,\n",
       "        -2.14914283e+02, -2.10242233e+02, -2.05570183e+02, -2.00898134e+02,\n",
       "        -1.96226084e+02, -1.91554034e+02, -1.86881985e+02, -1.82209935e+02,\n",
       "        -1.77537886e+02, -1.72865836e+02, -1.68193786e+02, -1.63521737e+02,\n",
       "        -1.58849687e+02, -1.54177637e+02, -1.49505588e+02, -1.44833538e+02,\n",
       "        -1.40161489e+02, -1.35489439e+02, -1.30817389e+02, -1.26145340e+02,\n",
       "        -1.21473290e+02, -1.16801241e+02, -1.12129191e+02, -1.07457141e+02,\n",
       "        -1.02785092e+02, -9.81130420e+01, -9.34409924e+01, -8.87689428e+01,\n",
       "        -8.40968932e+01, -7.94248436e+01, -7.47527939e+01, -7.00807443e+01,\n",
       "        -6.54086947e+01, -6.07366451e+01, -5.60645955e+01, -5.13925458e+01,\n",
       "        -4.67204962e+01, -4.20484466e+01, -3.73763970e+01, -3.27043473e+01,\n",
       "        -2.80322977e+01, -2.33602481e+01, -1.86881985e+01, -1.40161489e+01,\n",
       "        -9.34409924e+00, -4.67204962e+00, -5.96855898e-13,  4.67204962e+00,\n",
       "         9.34409924e+00,  1.40161489e+01,  1.86881985e+01,  2.33602481e+01,\n",
       "         2.80322977e+01,  3.27043473e+01,  3.73763970e+01,  4.20484466e+01,\n",
       "         4.67204962e+01,  5.13925458e+01,  5.60645955e+01,  6.07366451e+01,\n",
       "         6.54086947e+01,  7.00807443e+01,  7.47527939e+01,  7.94248436e+01,\n",
       "         8.40968932e+01,  8.87689428e+01,  9.34409924e+01,  9.81130420e+01,\n",
       "         1.02785092e+02,  1.07457141e+02,  1.12129191e+02,  1.16801241e+02,\n",
       "         1.21473290e+02,  1.26145340e+02,  1.30817389e+02,  1.35489439e+02,\n",
       "         1.40161489e+02,  1.44833538e+02,  1.49505588e+02,  1.54177637e+02,\n",
       "         1.58849687e+02,  1.63521737e+02,  1.68193786e+02,  1.72865836e+02,\n",
       "         1.77537886e+02,  1.82209935e+02,  1.86881985e+02,  1.91554034e+02,\n",
       "         1.96226084e+02,  2.00898134e+02,  2.05570183e+02,  2.10242233e+02,\n",
       "         2.14914283e+02,  2.19586332e+02,  2.24258382e+02,  2.28930431e+02,\n",
       "         2.33602481e+02]),\n",
       " <BarContainer object of 100 artists>)"
      ]
     },
     "execution_count": 71,
     "metadata": {},
     "output_type": "execute_result"
    },
    {
     "data": {
      "image/png": "[encoded data removed]",
      "text/plain": [
       "<Figure size 432x288 with 1 Axes>"
      ]
     },
     "metadata": {
      "needs_background": "light"
     },
     "output_type": "display_data"
    }
   ],
   "source": [
    "plt.hist([i for i in histPoints if abs(i) < 250],bins=100)"
   ]
  },
  {
   "cell_type": "code",
   "execution_count": 48,
   "metadata": {},
   "outputs": [
    {
     "data": {
      "image/png": "[encoded data removed]",
      "text/plain": [
       "<Figure size 432x288 with 1 Axes>"
      ]
     },
     "metadata": {
      "needs_background": "light"
     },
     "output_type": "display_data"
    }
   ],
   "source": [
    "plt.hist([i for i in histPoints if abs(i) < 250],bins=100)\n",
    "plt.savefig('19_20_test.pdf')"
   ]
  },
  {
   "cell_type": "code",
   "execution_count": null,
   "metadata": {},
   "outputs": [],
   "source": []
  }
 ],
 "metadata": {
  "kernelspec": {
   "display_name": "Python 3",
   "language": "python",
   "name": "python3"
  },
  "language_info": {
   "codemirror_mode": {
    "name": "ipython",
    "version": 3
   },
   "file_extension": ".py",
   "mimetype": "text/x-python",
   "name": "python",
   "nbconvert_exporter": "python",
   "pygments_lexer": "ipython3",
   "version": "3.8.10"
  }
 },
 "nbformat": 4,
 "nbformat_minor": 4
}
