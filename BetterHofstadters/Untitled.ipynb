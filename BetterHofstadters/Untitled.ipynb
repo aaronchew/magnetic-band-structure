{
 "cells": [
  {
   "cell_type": "code",
   "execution_count": 1,
   "metadata": {},
   "outputs": [],
   "source": [
    "import mpmath\n",
    "import numpy as np\n",
    "import matplotlib.pyplot as plt\n",
    "from scipy.special import eval_genlaguerre, loggamma\n",
    "from mpmath import jtheta,sqrt, pi, exp, conj\n",
    "import csv\n",
    "from scipy.sparse.linalg import expm\n",
    "from scipy.linalg import eigvalsh\n",
    "from math import gcd\n",
    "import scipy as sp"
   ]
  },
  {
   "cell_type": "code",
   "execution_count": 2,
   "metadata": {},
   "outputs": [],
   "source": [
    "# calculates the Siegel theta function from Jacobis\n",
    "def siegel(z1,z2):\n",
    "    return(sqrt(2)*exp(-pi*z1*z1-pi*z2*z2+2j*pi*z1*z2)* \\\n",
    "    jtheta(3,pi*(1.0j*z1+z2),exp(-pi))*jtheta(3,pi*(z1+1.0j*z2),exp(-pi)))\n",
    "\n",
    "# get the phase e^{\\xi_q(k)}\n",
    "def getPhase(kvec,qvec,latticeVec1,latticeVec2):\n",
    "    k1 = np.dot(kvec,latticeVec1)\n",
    "    k2 = np.dot(kvec,latticeVec2)\n",
    "    q1 = np.dot(qvec,latticeVec1)\n",
    "    q2 = np.dot(qvec,latticeVec2)\n",
    "    \n",
    "    qComplex = q1 + 1.0j*q2\n",
    "    numer = exp(-qComplex*conj(qComplex)/(8*pi))*siegel((k1-qComplex/2)/(2*pi),(k2+1.0j*qComplex/2)/(2*pi))\n",
    "    denom= sqrt(siegel(k1/(2*pi),k2/(2*pi))*siegel((k1-q1)/(2*pi),(k2-q2)/(2*pi)))\n",
    "    return(complex(numer/denom))"
   ]
  },
  {
   "cell_type": "code",
   "execution_count": 3,
   "metadata": {},
   "outputs": [
    {
     "data": {
      "text/plain": [
       "(0.930543641832027-0.006770653582326828j)"
      ]
     },
     "execution_count": 3,
     "metadata": {},
     "output_type": "execute_result"
    }
   ],
   "source": [
    "getPhase(np.array([1,3+0.2j]),np.array([1.2,1-0.2j]),np.array([0,+0.2j]),np.array([1,0]))"
   ]
  },
  {
   "cell_type": "code",
   "execution_count": 14,
   "metadata": {},
   "outputs": [],
   "source": [
    "p = 19\n",
    "q = 20\n",
    "assert (gcd(p, q) == 1)\n",
    "phi = (2*np.pi*p)/q\n",
    "w0 = 0.8/np.sqrt(3) \n",
    "w1 = 1.0/np.sqrt(3)\n",
    "vfkth = 110*np.sqrt(3)"
   ]
  },
  {
   "cell_type": "code",
   "execution_count": 15,
   "metadata": {},
   "outputs": [],
   "source": [
    "a1 = 2./3*np.array([-np.sqrt(3)/2, -1./2],dtype=complex);\n",
    "a2 = 2./3*np.array([np.sqrt(3)/2, -1./2],dtype=complex);\n",
    "b1 = np.array([-np.sqrt(3)/2, -3./2],dtype=complex);\n",
    "b2 = np.array([np.sqrt(3)/2, -3./2],dtype=complex);\n",
    "\n",
    "ta1 = 1.0/p*a1\n",
    "ta2 = q*a2\n",
    "tb1 = p*b1\n",
    "tb2 = 1.0/q*b2\n",
    "\n",
    "s2 = np.array([[0, -1.0j], [1.0j, 0]],dtype=complex)\n",
    "t1 = np.array([[w0, w1], [w1, w0]],dtype=complex)\n",
    "t2 = np.array([[w0, w1*np.exp(-2j*np.pi/3)], [w1*np.exp(2j*np.pi/3), w0]],dtype=complex)\n",
    "t3 = np.array([[w0, w1*np.exp(2j*np.pi/3)], [w1*np.exp(-2j*np.pi/3), w0]],dtype=complex)"
   ]
  },
  {
   "cell_type": "code",
   "execution_count": 16,
   "metadata": {},
   "outputs": [],
   "source": [
    "omega = ta1[0]*ta2[1] - ta1[1]*ta2[0]\n",
    "z1 = 1/np.sqrt(omega)*(ta1[0]+1.0j*ta1[1])\n",
    "z2 = 1/np.sqrt(omega)*(ta2[0]+1.0j*ta2[1])"
   ]
  },
  {
   "cell_type": "code",
   "execution_count": 18,
   "metadata": {},
   "outputs": [
    {
     "ename": "KeyboardInterrupt",
     "evalue": "",
     "output_type": "error",
     "traceback": [
      "\u001b[0;31m---------------------------------------------------------------------------\u001b[0m",
      "\u001b[0;31mKeyboardInterrupt\u001b[0m                         Traceback (most recent call last)",
      "\u001b[0;32m<ipython-input-18-49184bf3b1c2>\u001b[0m in \u001b[0;36m<module>\u001b[0;34m\u001b[0m\n\u001b[1;32m     69\u001b[0m     \u001b[0;32mfor\u001b[0m \u001b[0mr\u001b[0m \u001b[0;32min\u001b[0m \u001b[0mrange\u001b[0m\u001b[0;34m(\u001b[0m\u001b[0;36m1\u001b[0m\u001b[0;34m)\u001b[0m\u001b[0;34m:\u001b[0m\u001b[0;34m\u001b[0m\u001b[0;34m\u001b[0m\u001b[0m\n\u001b[1;32m     70\u001b[0m         \u001b[0mmomentum\u001b[0m \u001b[0;34m=\u001b[0m \u001b[0;36m2\u001b[0m\u001b[0;34m*\u001b[0m\u001b[0mnp\u001b[0m\u001b[0;34m.\u001b[0m\u001b[0mpi\u001b[0m\u001b[0;34m*\u001b[0m\u001b[0mi\u001b[0m\u001b[0;34m/\u001b[0m\u001b[0;36m10\u001b[0m \u001b[0;34m*\u001b[0m \u001b[0mtb1\u001b[0m \u001b[0;34m+\u001b[0m \u001b[0;36m2\u001b[0m\u001b[0;34m*\u001b[0m\u001b[0mnp\u001b[0m\u001b[0;34m.\u001b[0m\u001b[0mpi\u001b[0m\u001b[0;34m*\u001b[0m\u001b[0mr\u001b[0m\u001b[0;34m/\u001b[0m\u001b[0;36m10\u001b[0m \u001b[0;34m*\u001b[0m \u001b[0mtb2\u001b[0m\u001b[0;34m\u001b[0m\u001b[0;34m\u001b[0m\u001b[0m\n\u001b[0;32m---> 71\u001b[0;31m         \u001b[0meigvals\u001b[0m \u001b[0;34m=\u001b[0m \u001b[0mnp\u001b[0m\u001b[0;34m.\u001b[0m\u001b[0mlinalg\u001b[0m\u001b[0;34m.\u001b[0m\u001b[0meigvalsh\u001b[0m\u001b[0;34m(\u001b[0m\u001b[0mgenerateHamiltonian\u001b[0m\u001b[0;34m(\u001b[0m\u001b[0mmomentum\u001b[0m\u001b[0;34m)\u001b[0m\u001b[0;34m)\u001b[0m\u001b[0;34m\u001b[0m\u001b[0;34m\u001b[0m\u001b[0m\n\u001b[0m\u001b[1;32m     72\u001b[0m         \u001b[0mhistPoints\u001b[0m\u001b[0;34m+=\u001b[0m\u001b[0mlist\u001b[0m\u001b[0;34m(\u001b[0m\u001b[0meigvals\u001b[0m\u001b[0;34m)\u001b[0m\u001b[0;34m\u001b[0m\u001b[0;34m\u001b[0m\u001b[0m\n\u001b[1;32m     73\u001b[0m \u001b[0mduration\u001b[0m \u001b[0;34m=\u001b[0m \u001b[0mdefault_timer\u001b[0m\u001b[0;34m(\u001b[0m\u001b[0;34m)\u001b[0m \u001b[0;34m-\u001b[0m \u001b[0mstart\u001b[0m\u001b[0;34m\u001b[0m\u001b[0;34m\u001b[0m\u001b[0m\n",
      "\u001b[0;32m<__array_function__ internals>\u001b[0m in \u001b[0;36meigvalsh\u001b[0;34m(*args, **kwargs)\u001b[0m\n",
      "\u001b[0;32m/usr/local/lib/python3.8/site-packages/numpy/linalg/linalg.py\u001b[0m in \u001b[0;36meigvalsh\u001b[0;34m(a, UPLO)\u001b[0m\n\u001b[1;32m   1174\u001b[0m     \u001b[0mt\u001b[0m\u001b[0;34m,\u001b[0m \u001b[0mresult_t\u001b[0m \u001b[0;34m=\u001b[0m \u001b[0m_commonType\u001b[0m\u001b[0;34m(\u001b[0m\u001b[0ma\u001b[0m\u001b[0;34m)\u001b[0m\u001b[0;34m\u001b[0m\u001b[0;34m\u001b[0m\u001b[0m\n\u001b[1;32m   1175\u001b[0m     \u001b[0msignature\u001b[0m \u001b[0;34m=\u001b[0m \u001b[0;34m'D->d'\u001b[0m \u001b[0;32mif\u001b[0m \u001b[0misComplexType\u001b[0m\u001b[0;34m(\u001b[0m\u001b[0mt\u001b[0m\u001b[0;34m)\u001b[0m \u001b[0;32melse\u001b[0m \u001b[0;34m'd->d'\u001b[0m\u001b[0;34m\u001b[0m\u001b[0;34m\u001b[0m\u001b[0m\n\u001b[0;32m-> 1176\u001b[0;31m     \u001b[0mw\u001b[0m \u001b[0;34m=\u001b[0m \u001b[0mgufunc\u001b[0m\u001b[0;34m(\u001b[0m\u001b[0ma\u001b[0m\u001b[0;34m,\u001b[0m \u001b[0msignature\u001b[0m\u001b[0;34m=\u001b[0m\u001b[0msignature\u001b[0m\u001b[0;34m,\u001b[0m \u001b[0mextobj\u001b[0m\u001b[0;34m=\u001b[0m\u001b[0mextobj\u001b[0m\u001b[0;34m)\u001b[0m\u001b[0;34m\u001b[0m\u001b[0;34m\u001b[0m\u001b[0m\n\u001b[0m\u001b[1;32m   1177\u001b[0m     \u001b[0;32mreturn\u001b[0m \u001b[0mw\u001b[0m\u001b[0;34m.\u001b[0m\u001b[0mastype\u001b[0m\u001b[0;34m(\u001b[0m\u001b[0m_realType\u001b[0m\u001b[0;34m(\u001b[0m\u001b[0mresult_t\u001b[0m\u001b[0;34m)\u001b[0m\u001b[0;34m,\u001b[0m \u001b[0mcopy\u001b[0m\u001b[0;34m=\u001b[0m\u001b[0;32mFalse\u001b[0m\u001b[0;34m)\u001b[0m\u001b[0;34m\u001b[0m\u001b[0;34m\u001b[0m\u001b[0m\n\u001b[1;32m   1178\u001b[0m \u001b[0;34m\u001b[0m\u001b[0m\n",
      "\u001b[0;31mKeyboardInterrupt\u001b[0m: "
     ]
    }
   ],
   "source": [
    "num_landau = 200\n",
    "\n",
    "qvec = 2*np.pi*b1\n",
    "gQ = np.dot(qvec,ta1)*np.conj(z2)-np.dot(qvec,ta2)*np.conj(z1)\n",
    "gQbar = np.conj(gQ)\n",
    "\n",
    "num_landau_calc = 400\n",
    "\n",
    "toExp = np.zeros((num_landau_calc,num_landau_calc),dtype=complex)\n",
    "\n",
    "for m in range(num_landau_calc-1):\n",
    "    toExp[m,m+1] = np.sqrt(m+1)*1.0j*gQ/np.sqrt(4*np.pi)\n",
    "    toExp[m+1,m] = np.sqrt(m+1)*1.0j*gQbar/np.sqrt(4*np.pi)\n",
    "    \n",
    "hqp1 = expm(toExp)[:num_landau,:num_landau]\n",
    "\n",
    "qvec = 2*np.pi*b2\n",
    "gQ = np.dot(qvec,ta1)*np.conj(z2)-np.dot(qvec,ta2)*np.conj(z1)\n",
    "gQbar = np.conj(gQ)\n",
    "\n",
    "toExp2 = np.zeros((num_landau_calc,num_landau_calc),dtype=complex)\n",
    "\n",
    "for m in range(num_landau_calc-1):\n",
    "    toExp2[m,m+1] = np.sqrt(m+1)*1.0j*gQ/np.sqrt(4*np.pi)\n",
    "    toExp2[m+1,m] = np.sqrt(m+1)*1.0j*gQbar/np.sqrt(4*np.pi)\n",
    "    \n",
    "hqp2 = expm(toExp2)[:num_landau,:num_landau]\n",
    "        \n",
    "aUp = np.zeros((num_landau, num_landau),dtype='complex') \n",
    "aDown = np.zeros((num_landau, num_landau),dtype='complex') \n",
    "\n",
    "for m in range(num_landau-1):\n",
    "    aUp[m+1, m] = np.sqrt(m+1)\n",
    "    aDown[m,m+1] = np.sqrt(m+1)\n",
    "\n",
    "iden = np.identity(num_landau,dtype='complex')\n",
    "\n",
    "spurious = np.zeros((num_landau, num_landau),dtype='complex')\n",
    "spurious[num_landau-1, num_landau-1] = 10\n",
    "\n",
    "kinetic1 = np.sqrt(phi/(2*np.pi))*np.sqrt(3*np.sqrt(3)/(2*np.pi))*np.block([[spurious, aUp], [aDown, spurious]]) - 0.5*np.kron(s2,iden)\n",
    "kinetic2 = np.sqrt(phi/(2*np.pi))*np.sqrt(3*np.sqrt(3)/(2*np.pi))*np.block([[spurious, aUp], [aDown, spurious]]) + 0.5*np.kron(s2,iden)\n",
    "\n",
    "def generateHamiltonian(kvec):\n",
    "    diagKinetic1 = [[np.zeros((2*num_landau,2*num_landau),dtype='complex') for v in range(p)] for u in range(p)]\n",
    "    diagKinetic2 = [[np.zeros((2*num_landau,2*num_landau),dtype='complex') for v in range(p)] for u in range(p)]\n",
    "    \n",
    "    diagPotential = [[np.zeros((2*num_landau,2*num_landau),dtype='complex') for v in range(p)] for u in range(p)]\n",
    "    offDiagPotential = [[np.zeros((2*num_landau,2*num_landau),dtype='complex') for v in range(p)] for u in range(p)]\n",
    "\n",
    "    for v in range(p):\n",
    "        diagKinetic1[v][v] = kinetic1\n",
    "        diagKinetic2[v][v] = kinetic2\n",
    "        \n",
    "        diagPotential[v][v] = np.kron(t1,iden)+getPhase(kvec+2*np.pi*b1*v,2*np.pi*b2,ta1,ta2)*np.kron(t3,hqp2) \n",
    "        # -1 entry is last entry\n",
    "        offDiagPotential[v-1][v] = getPhase(kvec+2*np.pi*b1*v,2*np.pi*b1,ta1,ta2)*np.kron(t2,hqp1)\n",
    "    \n",
    "    potentialTerm = np.block(diagPotential) + np.block(offDiagPotential)\n",
    "    hamiltonian = np.block([[np.block(diagKinetic1),potentialTerm],[potentialTerm.conj().T,np.block(diagKinetic2)]])   \n",
    "    return(vfkth*hamiltonian)\n",
    "\n",
    "histPoints = []\n",
    "start = default_timer()\n",
    "\n",
    "# do stuff\n",
    "\n",
    "for i in range(1):\n",
    "    for r in range(1):\n",
    "        momentum = 2*np.pi*i/10 * tb1 + 2*np.pi*r/10 * tb2\n",
    "        eigvals = np.linalg.eigvalsh(generateHamiltonian(momentum))\n",
    "        histPoints+=list(eigvals)\n",
    "duration = default_timer() - start\n",
    "        \n",
    "np.save('rawData/data_'+str(p)+'_'+str(q)+'.npy',histPoints)"
   ]
  },
  {
   "cell_type": "code",
   "execution_count": null,
   "metadata": {},
   "outputs": [],
   "source": [
    "from timeit import default_timer\n",
    "\n"
   ]
  },
  {
   "cell_type": "code",
   "execution_count": 10,
   "metadata": {},
   "outputs": [
    {
     "data": {
      "text/plain": [
       "15.223056447000001"
      ]
     },
     "execution_count": 10,
     "metadata": {},
     "output_type": "execute_result"
    }
   ],
   "source": [
    "duration"
   ]
  },
  {
   "cell_type": "code",
   "execution_count": 13,
   "metadata": {},
   "outputs": [
    {
     "data": {
      "text/plain": [
       "(800, 800)"
      ]
     },
     "execution_count": 13,
     "metadata": {},
     "output_type": "execute_result"
    }
   ],
   "source": [
    "np.shape(generateHamiltonian(np.array([0,0])))"
   ]
  },
  {
   "cell_type": "code",
   "execution_count": null,
   "metadata": {},
   "outputs": [],
   "source": []
  }
 ],
 "metadata": {
  "kernelspec": {
   "display_name": "Python 3",
   "language": "python",
   "name": "python3"
  },
  "language_info": {
   "codemirror_mode": {
    "name": "ipython",
    "version": 3
   },
   "file_extension": ".py",
   "mimetype": "text/x-python",
   "name": "python",
   "nbconvert_exporter": "python",
   "pygments_lexer": "ipython3",
   "version": "3.8.6"
  }
 },
 "nbformat": 4,
 "nbformat_minor": 4
}
